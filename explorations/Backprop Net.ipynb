{
 "cells": [
  {
   "cell_type": "code",
   "execution_count": null,
   "metadata": {
    "collapsed": true
   },
   "outputs": [],
   "source": [
    "!ls"
   ]
  },
  {
   "cell_type": "code",
   "execution_count": 172,
   "metadata": {
    "collapsed": true
   },
   "outputs": [],
   "source": [
    "import numpy as np\n",
    "import scipy.optimize as spo"
   ]
  },
  {
   "cell_type": "code",
   "execution_count": null,
   "metadata": {
    "collapsed": true
   },
   "outputs": [],
   "source": []
  },
  {
   "cell_type": "code",
   "execution_count": 5,
   "metadata": {
    "collapsed": true
   },
   "outputs": [],
   "source": [
    "def sigmoid(x):\n",
    "    \"\"\" Evaluate the sigmoid function on an np.array\n",
    "    \n",
    "        Keyword Arguments:\n",
    "        x -- an np.array.\n",
    "    \"\"\"\n",
    "    return 1.0 / (1.0 + np.exp(-x))\n",
    "\n",
    "def sigmoid_gradient(x):\n",
    "    \"\"\" Evaluate the sigmoid gradient (i.e. the derivative of the sigmoid function)\n",
    "        \n",
    "        Keyword Arguments:\n",
    "        x -- an np.array\n",
    "    \"\"\"\n",
    "    q = sigmoid(x)\n",
    "    return q * (1 - q)"
   ]
  },
  {
   "cell_type": "code",
   "execution_count": 46,
   "metadata": {
    "collapsed": false
   },
   "outputs": [],
   "source": [
    "def cost_function(nn_params, il_size, hl_size, num_labels, X, y, lam):\n",
    "    \"\"\" Evaluate the cost function for a layer of a backpropogated neural net.\n",
    "    \n",
    "        Keyword Arguments:\n",
    "        \n",
    "        nn_params -- A rolled-up np.array containing the theta parameters of the net.\n",
    "        il_size -- The input layer size.\n",
    "        hl_size -- The hidden layer size.\n",
    "        num_labels -- The number of output neurons, i.e. the output layer size\n",
    "        X -- Feature matrix, with training examples in rows\n",
    "        y -- Label vector, corresponding to output neurons 1 ... num_labels\n",
    "        lam -- regularization parameter\n",
    "    \"\"\"\n",
    "    split_indx = hl_size * (il_size + 1);\n",
    "    \n",
    "#     print(split_indx)\n",
    "#     print(len(nn_params[0:split_indx]))\n",
    "\n",
    "    Theta1 = np.reshape(nn_params[0:split_indx], [hl_size, il_size + 1])\n",
    "    Theta2 = np.reshape(nn_params[split_indx:] , [num_labels, hl_size + 1] )\n",
    "    \n",
    "#     print(Theta1.shape)\n",
    "#     print(Theta2.shape)\n",
    "\n",
    "    m = X.shape[0]\n",
    "\n",
    "    J = 0\n",
    "    \n",
    "    K = num_labels\n",
    "    for i in range(0,m):\n",
    "        # Forward propogation\n",
    "        a_1 = np.insert(X[i,:], 0, 1)\n",
    "        \n",
    "        z_2 = np.dot(Theta1, a_1)\n",
    "        a_2 = np.insert(sigmoid(z_2), 0, 1)\n",
    "        \n",
    "        z_3 = np.dot(Theta2, a_2)\n",
    "        a_3 = sigmoid(z_3)\n",
    "        \n",
    "        yvec = np.zeros([num_labels,1])\n",
    "        yvec[y[i]-1] = 1;\n",
    "        \n",
    "        term1 = np.dot( np.transpose(-1 * yvec), np.log(a_3))\n",
    "        term2 = np.dot( np.transpose(1 - yvec) , np.log(1 - a_3) )\n",
    "\n",
    "        J = J + np.sum( term1 - term2);\n",
    "        \n",
    "        Theta1_temp = Theta1[:,1:]\n",
    "        Theta2_temp = Theta2[:,1:]\n",
    "        regterm = (lam / (2 * m)) * (np.sum(np.power(Theta1_temp.flatten(),2)) + np.sum(np.power(Theta2_temp.flatten(),2)))\n",
    "        J = J + regterm\n",
    "    return J/m"
   ]
  },
  {
   "cell_type": "code",
   "execution_count": 154,
   "metadata": {
    "collapsed": true
   },
   "outputs": [],
   "source": [
    "def jacobian(nn_params, il_size, hl_size, num_labels, X, y, lam):\n",
    "    \"\"\" Evaluate the Jacobian (i.e. gradient) for a layer of a backpropogated neural net.\n",
    "    \n",
    "        Keyword Arguments:\n",
    "        \n",
    "        nn_params -- A rolled-up np.array containing the theta parameters of the net.\n",
    "        il_size -- The input layer size.\n",
    "        hl_size -- The hidden layer size.\n",
    "        num_labels -- The number of output neurons, i.e. the output layer size\n",
    "        X -- Feature matrix, with training examples in rows\n",
    "        y -- Label vector, corresponding to output neurons 1 ... num_labels\n",
    "        lam -- regularization parameter\n",
    "    \"\"\"\n",
    "    split_indx = hl_size * (il_size + 1);\n",
    "    \n",
    "    m = X.shape[0]\n",
    "    \n",
    "    Theta1 = np.reshape(nn_params[0:split_indx], [hl_size, il_size + 1])\n",
    "    Theta2 = np.reshape(nn_params[split_indx:] , [num_labels, hl_size + 1] )\n",
    "    \n",
    "    Theta1_grad = np.zeros(Theta1.shape)\n",
    "    Theta2_grad = np.zeros(Theta2.shape)\n",
    "    \n",
    "    Delta_1 = np.zeros(Theta1.shape)\n",
    "    Delta_2 = np.zeros(Theta2.shape)\n",
    "    for i in range(0,m):\n",
    "        # Forward propogation\n",
    "        a_1 = np.insert(X[i,:], 0, 1)\n",
    "        a_1.shape = (il_size + 1, 1)\n",
    "        \n",
    "        z_2 = np.dot(Theta1, a_1)\n",
    "        a_2 = np.insert(sigmoid(z_2), 0, 1)\n",
    "        a_2.shape = (hl_size + 1, 1)\n",
    "        \n",
    "        z_3 = np.dot(Theta2, a_2)\n",
    "        a_3 = sigmoid(z_3)\n",
    "        a_3.shape = (num_labels,1)\n",
    "        yvec = np.zeros([num_labels,1])\n",
    "        yvec[y[i]-1] = 1;\n",
    "                \n",
    "        d_3 = a_3 - yvec\n",
    "        siggrad = sigmoid_gradient(z_2).flatten()\n",
    "        siggrad.shape = (hl_size,1)\n",
    "\n",
    "        d_2 = np.multiply(np.dot(np.transpose(Theta2[:,1:]), d_3), siggrad)\n",
    "        \n",
    "#         print(Delta_2.shape)\n",
    "#         print(np.dot(d_3, np.transpose(a_2)).shape)\n",
    "#         print(Delta_1.shape)\n",
    "#         print(d_2.shape)\n",
    "#         print(np.transpose(a_1).shape)\n",
    "#         print(np.dot(d_2, np.transpose(a_1)).shape)\n",
    "        Delta_2 = Delta_2 + np.dot(d_3, np.transpose(a_2))\n",
    "        Delta_1 = Delta_1 + np.dot(d_2, np.transpose(a_1))\n",
    "    \n",
    "    Theta1_grad = Delta_1 * 1/m;\n",
    "    Theta2_grad = Delta_2 * 1/m;\n",
    "    \n",
    "    Theta1_grad[:,1:] = Theta1_grad[:,1:] + lam/m * Theta1[:,1:]\n",
    "    Theta2_grad[:,1:] = Theta2_grad[:,1:] + lam/m * Theta2[:,1:]\n",
    "    t1 = Theta1_grad.flatten()\n",
    "    t2 = Theta2_grad.flatten()\n",
    "    \n",
    "    return np.concatenate([t1, t2])"
   ]
  },
  {
   "cell_type": "code",
   "execution_count": 184,
   "metadata": {
    "collapsed": true
   },
   "outputs": [],
   "source": [
    "def rand_init_weights(lin, lout):\n",
    "    epsilon_init = .1;\n",
    "    W = np.random.randn(lout, 1 + lin) * epsilon_init;\n",
    "    return W"
   ]
  },
  {
   "cell_type": "code",
   "execution_count": 185,
   "metadata": {
    "collapsed": false
   },
   "outputs": [
    {
     "name": "stdout",
     "output_type": "stream",
     "text": [
      "Optimization terminated successfully.\n",
      "         Current function value: 0.738642\n",
      "         Iterations: 205\n",
      "         Function evaluations: 208\n",
      "         Gradient evaluations: 208\n"
     ]
    },
    {
     "data": {
      "text/plain": [
       "      fun: 0.7386415237086855\n",
       " hess_inv: array([[  3.28047587e+02,   4.98247969e-01,  -6.28900119e+00, ...,\n",
       "          9.41775467e+00,   4.99897768e-01,   1.58559389e+00],\n",
       "       [  4.98247969e-01,   5.15751029e+00,   1.49671553e+00, ...,\n",
       "         -4.06313271e-01,   1.58911642e+00,  -5.04025540e-01],\n",
       "       [ -6.28900119e+00,   1.49671553e+00,   1.61925583e+00, ...,\n",
       "         -4.16014804e-01,   6.75179249e-01,  -2.62641441e-01],\n",
       "       ..., \n",
       "       [  9.41775467e+00,  -4.06313271e-01,  -4.16014804e-01, ...,\n",
       "          1.17199880e+01,   3.84028007e+00,   2.51783269e+00],\n",
       "       [  4.99897768e-01,   1.58911642e+00,   6.75179249e-01, ...,\n",
       "          3.84028007e+00,   1.28084895e+01,   2.09452116e+00],\n",
       "       [  1.58559389e+00,  -5.04025540e-01,  -2.62641441e-01, ...,\n",
       "          2.51783269e+00,   2.09452116e+00,   5.61637649e+00]])\n",
       "      jac: array([  6.90878205e-07,  -1.31753339e-06,  -3.45610063e-07,\n",
       "        -9.50830214e-08,   1.01929575e-06,   8.78634575e-07,\n",
       "        -1.78162358e-06,   6.95450187e-07,   3.47574815e-06,\n",
       "         5.76156315e-06,  -8.40993146e-07,  -3.09679428e-06,\n",
       "        -2.81985680e-06,  -3.71436317e-06,  -4.62402520e-06,\n",
       "        -8.77121038e-07,   1.79997092e-06,  -3.48318945e-08,\n",
       "         3.23659398e-07,  -1.11171827e-06,  -3.72601680e-06,\n",
       "         2.29221946e-06,   2.21765789e-06,   1.95103188e-06,\n",
       "         5.29123826e-07,  -6.27828814e-07,  -1.35325859e-06,\n",
       "        -1.35583991e-06,  -1.65739907e-07,  -1.80072259e-06,\n",
       "         2.83231403e-06,   6.54304489e-06,   6.52933531e-06,\n",
       "         6.58691383e-06,   6.32165420e-06,   5.70596707e-07,\n",
       "         2.41438591e-06,   2.58890825e-06,   2.10370943e-06,\n",
       "         2.04197587e-06,   9.63332904e-07,  -7.78799322e-07,\n",
       "        -1.49940543e-06,  -2.25916979e-06,  -3.31757136e-06,\n",
       "        -9.15005240e-07,  -3.49403146e-06,  -2.90541387e-06,\n",
       "        -3.68707034e-06,  -2.89435158e-06,   1.90686243e-06,\n",
       "         6.68370562e-07,  -1.61768593e-06,   4.96735740e-06,\n",
       "         1.97094552e-06,   2.01351117e-06,   3.23311491e-06,\n",
       "         2.49716721e-06,  -8.51681341e-07,  -1.65738921e-06,\n",
       "         3.23375085e-06,   1.49676602e-07,  -1.17170055e-06,\n",
       "        -1.09224625e-06,  -9.81416302e-07,  -9.78231356e-07,\n",
       "        -5.60996652e-07,  -2.62520555e-06,   1.70277787e-06,\n",
       "        -7.87018998e-07,   2.59589760e-06,  -2.61182472e-06,\n",
       "        -1.93588753e-06,   8.70026302e-08,  -1.09847465e-06,\n",
       "        -2.35019131e-06,   6.40371100e-07,  -2.91576635e-06,\n",
       "        -1.15116994e-06,  -1.38245348e-06,   7.38752342e-07,\n",
       "        -6.06705034e-07,  -3.48167339e-07])\n",
       "  message: 'Optimization terminated successfully.'\n",
       "     nfev: 208\n",
       "      nit: 205\n",
       "     njev: 208\n",
       "   status: 0\n",
       "  success: True\n",
       "        x: array([ 12.29112638,  -0.4354876 ,  -0.43547917,  -0.43549238,\n",
       "        -0.43547968,   6.86981808,  -0.43554123,  -0.43549328,\n",
       "        -0.43543623,  -0.43539401, -12.29066529,   0.43544041,\n",
       "         0.43547395,   0.43547235,   0.43547029,   6.86907454,\n",
       "        -0.43541059,  -0.43543932,  -0.43540225,  -0.435419  ,\n",
       "         6.86599732,  -0.43542478,  -0.43531524,  -0.43521146,\n",
       "        -0.43514233, -12.29115068,   0.43544724,   0.43546599,\n",
       "         0.43552053,   0.43549032,   6.87134218,  -0.43537303,\n",
       "        -0.43545841,  -0.43554165,  -0.43563458,  12.29023803,\n",
       "        -0.43541949,  -0.43543137,  -0.43546304,  -0.43548201,\n",
       "        -6.8685641 ,   0.43548105,   0.43543053,   0.43537884,\n",
       "         0.43531819, -12.29127461,   0.43543346,   0.43547857,\n",
       "         0.43548257,   0.4355338 ,  -2.07247013,   0.26623256,\n",
       "         0.99210598,  -0.26612085,   0.99217   ,   0.99204958,\n",
       "        -0.26617144,   0.99226447,   0.26619488,  -0.99220554,\n",
       "        -0.26616893,  -0.73043219,   0.85562109,  -0.85574102,\n",
       "        -0.85566906,  -0.85569094,  -0.85552216,  -0.85573665,\n",
       "        -0.85568594,   0.85559009,   0.85571621,  -0.8557392 ,\n",
       "        -0.81421201,  -0.99210959,  -0.26626158,   0.99208202,\n",
       "        -0.26620536,  -0.26632292,   0.99213205,  -0.26628074,\n",
       "        -0.99206187,   0.26626811,   0.99215616])"
      ]
     },
     "execution_count": 185,
     "metadata": {},
     "output_type": "execute_result"
    }
   ],
   "source": [
    "# \"Live\" Section\n",
    "INPUT_LAYERS = 4\n",
    "HIDDEN_LAYERS = 10\n",
    "OUTPUT_LAYERS = 3\n",
    "\n",
    "init_theta1 = rand_init_weights(INPUT_LAYERS, HIDDEN_LAYERS).flatten()\n",
    "init_theta2 = rand_init_weights(HIDDEN_LAYERS, OUTPUT_LAYERS).flatten()\n",
    "\n",
    "init_params = np.concatenate([init_theta1, init_theta2])\n",
    "\n",
    "X = np.array([[1,2,3,4],[4,5,6,7],[7,8,9,10]])\n",
    "y = np.array([1,2,3])\n",
    "\n",
    "lam = .1\n",
    "\n",
    "params = (INPUT_LAYERS, HIDDEN_LAYERS, OUTPUT_LAYERS, X, y, lam)\n",
    "\n",
    "spo.minimize(cost_function, init_params, method = 'BFGS', args = params, jac = jacobian, options = {'disp':True})"
   ]
  },
  {
   "cell_type": "code",
   "execution_count": 159,
   "metadata": {
    "collapsed": false
   },
   "outputs": [
    {
     "name": "stdout",
     "output_type": "stream",
     "text": [
      "1.38956500663\n",
      "115.333895551\n"
     ]
    }
   ],
   "source": [
    "ws = 10*(4 + 1) + 11*3\n",
    "tparams = np.ones(ws)\n",
    "j = jacobian(tparams, 4, 10, 3, np.array([[1,2,3,4],[4,5,6,7],[7,8,9,10]]), np.array([1,2,3]), 4)\n",
    "print(np.mean(j))\n",
    "print(np.sum(j))"
   ]
  },
  {
   "cell_type": "code",
   "execution_count": 47,
   "metadata": {
    "collapsed": false
   },
   "outputs": [
    {
     "data": {
      "text/plain": [
       "68.666605430649767"
      ]
     },
     "execution_count": 47,
     "metadata": {},
     "output_type": "execute_result"
    }
   ],
   "source": [
    "ws = 10*(4 + 1) + 11*3\n",
    "tparams = np.ones(ws)\n",
    "cost_function(tparams, 4, 10, 3, np.array([[1,2,3,4],[4,5,6,7],[7,8,9,10]]), np.array([1,2,3]), 4)"
   ]
  },
  {
   "cell_type": "code",
   "execution_count": 167,
   "metadata": {
    "collapsed": false
   },
   "outputs": [
    {
     "data": {
      "text/plain": [
       "array([[-0.02398327,  0.00288636, -0.02521148, -0.05847296,  0.09419758],\n",
       "       [-0.10979766, -0.1853879 , -0.00166844, -0.06133563,  0.10034813],\n",
       "       [-0.11266522, -0.10412894,  0.11466746,  0.18751797, -0.11715688]])"
      ]
     },
     "execution_count": 167,
     "metadata": {},
     "output_type": "execute_result"
    }
   ],
   "source": [
    "rand_init_weights(3,5)"
   ]
  },
  {
   "cell_type": "code",
   "execution_count": 56,
   "metadata": {
    "collapsed": false
   },
   "outputs": [],
   "source": [
    "?np.dot"
   ]
  },
  {
   "cell_type": "code",
   "execution_count": 132,
   "metadata": {
    "collapsed": false
   },
   "outputs": [
    {
     "name": "stdout",
     "output_type": "stream",
     "text": [
      "[[1 2 3]\n",
      " [4 5 6]]\n"
     ]
    },
    {
     "ename": "ValueError",
     "evalue": "operands could not be broadcast together with shapes (2,3) (3,4) ",
     "output_type": "error",
     "traceback": [
      "\u001b[0;31m---------------------------------------------------------------------------\u001b[0m",
      "\u001b[0;31mValueError\u001b[0m                                Traceback (most recent call last)",
      "\u001b[0;32m<ipython-input-132-6a13e86cfb74>\u001b[0m in \u001b[0;36m<module>\u001b[0;34m()\u001b[0m\n\u001b[1;32m      2\u001b[0m \u001b[0mb\u001b[0m \u001b[0;34m=\u001b[0m \u001b[0mnp\u001b[0m\u001b[0;34m.\u001b[0m\u001b[0marray\u001b[0m\u001b[0;34m(\u001b[0m\u001b[0;34m[\u001b[0m\u001b[0;34m[\u001b[0m\u001b[0;36m1\u001b[0m\u001b[0;34m,\u001b[0m\u001b[0;36m2\u001b[0m\u001b[0;34m,\u001b[0m\u001b[0;36m3\u001b[0m\u001b[0;34m,\u001b[0m\u001b[0;36m4\u001b[0m\u001b[0;34m]\u001b[0m\u001b[0;34m,\u001b[0m \u001b[0;34m[\u001b[0m\u001b[0;36m5\u001b[0m\u001b[0;34m,\u001b[0m\u001b[0;36m6\u001b[0m\u001b[0;34m,\u001b[0m\u001b[0;36m7\u001b[0m\u001b[0;34m,\u001b[0m\u001b[0;36m8\u001b[0m\u001b[0;34m]\u001b[0m\u001b[0;34m,\u001b[0m \u001b[0;34m[\u001b[0m\u001b[0;36m1\u001b[0m\u001b[0;34m,\u001b[0m\u001b[0;36m2\u001b[0m\u001b[0;34m,\u001b[0m\u001b[0;36m3\u001b[0m\u001b[0;34m,\u001b[0m\u001b[0;36m5\u001b[0m\u001b[0;34m]\u001b[0m\u001b[0;34m]\u001b[0m\u001b[0;34m)\u001b[0m \u001b[0;31m#3x4\u001b[0m\u001b[0;34m\u001b[0m\u001b[0m\n\u001b[1;32m      3\u001b[0m \u001b[0mprint\u001b[0m\u001b[0;34m(\u001b[0m\u001b[0ma\u001b[0m\u001b[0;34m)\u001b[0m\u001b[0;34m\u001b[0m\u001b[0m\n\u001b[0;32m----> 4\u001b[0;31m \u001b[0mnp\u001b[0m\u001b[0;34m.\u001b[0m\u001b[0mmultiply\u001b[0m\u001b[0;34m(\u001b[0m\u001b[0ma\u001b[0m\u001b[0;34m,\u001b[0m\u001b[0mb\u001b[0m\u001b[0;34m)\u001b[0m\u001b[0;34m\u001b[0m\u001b[0m\n\u001b[0m",
      "\u001b[0;31mValueError\u001b[0m: operands could not be broadcast together with shapes (2,3) (3,4) "
     ]
    }
   ],
   "source": [
    "a = np.array([[1,2,3],[4,5,6]]) # 2x3\n",
    "b = np.array([[1,2,3,4], [5,6,7,8], [1,2,3,5]]) #3x4 \n",
    "print(a)\n",
    "np.multiply(a,b)"
   ]
  },
  {
   "cell_type": "code",
   "execution_count": 62,
   "metadata": {
    "collapsed": false
   },
   "outputs": [],
   "source": [
    "?np.reshape"
   ]
  }
 ],
 "metadata": {
  "kernelspec": {
   "display_name": "Python 3",
   "language": "python",
   "name": "python3"
  },
  "language_info": {
   "codemirror_mode": {
    "name": "ipython",
    "version": 3
   },
   "file_extension": ".py",
   "mimetype": "text/x-python",
   "name": "python",
   "nbconvert_exporter": "python",
   "pygments_lexer": "ipython3",
   "version": "3.4.3"
  }
 },
 "nbformat": 4,
 "nbformat_minor": 1
}
