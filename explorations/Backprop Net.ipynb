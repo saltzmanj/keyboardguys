{
 "cells": [
  {
   "cell_type": "code",
   "execution_count": 3,
   "metadata": {
    "collapsed": true
   },
   "outputs": [],
   "source": [
    "%matplotlib inline"
   ]
  },
  {
   "cell_type": "code",
   "execution_count": 4,
   "metadata": {
    "collapsed": true
   },
   "outputs": [],
   "source": [
    "import numpy as np\n",
    "import scipy.optimize as spo\n",
    "import scipy.io as sio\n",
    "import time\n",
    "import matplotlib.pyplot as plt"
   ]
  },
  {
   "cell_type": "code",
   "execution_count": 5,
   "metadata": {
    "collapsed": true
   },
   "outputs": [],
   "source": [
    "def sigmoid(x):\n",
    "    \"\"\" Evaluate the sigmoid function on an np.array. This uses the classic exponential sigmoid, sig(x) = 1/(1 + e^-x)\n",
    "    \n",
    "        Keyword Arguments:\n",
    "        x -- an np.array.\n",
    "    \"\"\"\n",
    "    return 1.0 / (1.0 + np.exp(-x))\n",
    "\n",
    "def sigmoid_gradient(x):\n",
    "    \"\"\" Evaluate the sigmoid gradient (i.e. the derivative of the sigmoid function).\n",
    "        Recall that d(sig(x))/dx = sig(x) * (1 - sig(x)) for an exponential sigmoid.\n",
    "        \n",
    "        \n",
    "        Keyword Arguments:\n",
    "        x -- an np.array\n",
    "    \"\"\"\n",
    "    q = sigmoid(x)\n",
    "    return q * (1 - q)"
   ]
  },
  {
   "cell_type": "code",
   "execution_count": 6,
   "metadata": {
    "collapsed": false
   },
   "outputs": [],
   "source": [
    "def cost_function(nn_params, il_size, hl_size, num_labels, X, y, lam):\n",
    "#     print('evaluating cost function')\n",
    "    \"\"\" Evaluate the cost function for a layer of a backpropogated neural net.\n",
    "    \n",
    "        Keyword Arguments:\n",
    "        \n",
    "        nn_params -- A rolled-up np.array containing the theta parameters of the net.\n",
    "        il_size -- The input layer size.\n",
    "        hl_size -- The hidden layer size.\n",
    "        num_labels -- The number of output neurons, i.e. the output layer size\n",
    "        X -- Feature matrix, with training examples in rows\n",
    "        y -- Label vector, corresponding to output neurons 1 ... num_labels\n",
    "        lam -- regularization parameter\n",
    "    \"\"\"\n",
    "    split_indx = hl_size * (il_size + 1);\n",
    "    \n",
    "#     print(split_indx)\n",
    "#     print(len(nn_params[0:split_indx]))\n",
    "\n",
    "    Theta1 = np.reshape(nn_params[0:split_indx], [hl_size, il_size + 1])\n",
    "    Theta2 = np.reshape(nn_params[split_indx:] , [num_labels, hl_size + 1] )\n",
    "    \n",
    "#     print(Theta1.shape)\n",
    "#     print(Theta2.shape)\n",
    "\n",
    "    m = X.shape[0]\n",
    "\n",
    "    J = 0\n",
    "    \n",
    "    K = num_labels\n",
    "    for i in range(0,m):\n",
    "        # Forward propogation\n",
    "        a_1 = np.insert(X[i,:], 0, 1)\n",
    "        \n",
    "        z_2 = np.dot(Theta1, a_1)\n",
    "        a_2 = np.insert(sigmoid(z_2), 0, 1)\n",
    "        \n",
    "        z_3 = np.dot(Theta2, a_2)\n",
    "        a_3 = sigmoid(z_3)\n",
    "        \n",
    "        yvec = np.zeros([num_labels,1])\n",
    "        yvec[y[i]-1] = 1;\n",
    "        \n",
    "        term1 = np.dot( np.transpose(-1 * yvec), np.log(a_3))\n",
    "        term2 = np.dot( np.transpose(1 - yvec) , np.log(1 - a_3) )\n",
    "\n",
    "        J = J + np.sum( term1 - term2);\n",
    "        \n",
    "        Theta1_temp = Theta1[:,1:]\n",
    "        Theta2_temp = Theta2[:,1:]\n",
    "        regterm = (lam / (2 * m)) * (np.sum(np.power(Theta1_temp.flatten(),2)) + np.sum(np.power(Theta2_temp.flatten(),2)))\n",
    "        J = J + regterm\n",
    "    return J/m"
   ]
  },
  {
   "cell_type": "code",
   "execution_count": 7,
   "metadata": {
    "collapsed": true
   },
   "outputs": [],
   "source": [
    "def jacobian(nn_params, il_size, hl_size, num_labels, X, y, lam):\n",
    "#     print(\"evaluating jacobian\")\n",
    "    \"\"\" Evaluate the Jacobian (i.e. gradient) for a layer of a backpropogated neural net.\n",
    "    \n",
    "        Keyword Arguments:\n",
    "        \n",
    "        nn_params -- A rolled-up np.array containing the theta parameters of the net.\n",
    "        il_size -- The input layer size.\n",
    "        hl_size -- The hidden layer size.\n",
    "        num_labels -- The number of output neurons, i.e. the output layer size\n",
    "        X -- Feature matrix, with training examples in rows\n",
    "        y -- Label vector, corresponding to output neurons 1 ... num_labels\n",
    "        lam -- regularization parameter\n",
    "    \"\"\"\n",
    "    split_indx = hl_size * (il_size + 1);\n",
    "    \n",
    "    m = X.shape[0]\n",
    "    \n",
    "    Theta1 = np.reshape(nn_params[0:split_indx], [hl_size, il_size + 1])\n",
    "    Theta2 = np.reshape(nn_params[split_indx:] , [num_labels, hl_size + 1] )\n",
    "    \n",
    "    Theta1_grad = np.zeros(Theta1.shape)\n",
    "    Theta2_grad = np.zeros(Theta2.shape)\n",
    "    \n",
    "    Delta_1 = np.zeros(Theta1.shape)\n",
    "    Delta_2 = np.zeros(Theta2.shape)\n",
    "    for i in range(0,m):\n",
    "        # Forward propogation\n",
    "        a_1 = np.insert(X[i,:], 0, 1)\n",
    "        a_1.shape = (il_size + 1, 1)\n",
    "        \n",
    "        z_2 = np.dot(Theta1, a_1)\n",
    "        a_2 = np.insert(sigmoid(z_2), 0, 1)\n",
    "        a_2.shape = (hl_size + 1, 1)\n",
    "        \n",
    "        z_3 = np.dot(Theta2, a_2)\n",
    "        a_3 = sigmoid(z_3)\n",
    "        a_3.shape = (num_labels,1)\n",
    "        yvec = np.zeros([num_labels,1])\n",
    "        yvec[y[i]-1] = 1;\n",
    "                \n",
    "        d_3 = a_3 - yvec\n",
    "        siggrad = sigmoid_gradient(z_2).flatten()\n",
    "        siggrad.shape = (hl_size,1)\n",
    "\n",
    "        d_2 = np.multiply(np.dot(np.transpose(Theta2[:,1:]), d_3), siggrad)\n",
    "        \n",
    "#         print(Delta_2.shape)\n",
    "#         print(np.dot(d_3, np.transpose(a_2)).shape)\n",
    "#         print(Delta_1.shape)\n",
    "#         print(d_2.shape)\n",
    "#         print(np.transpose(a_1).shape)\n",
    "#         print(np.dot(d_2, np.transpose(a_1)).shape)\n",
    "        Delta_2 = Delta_2 + np.dot(d_3, np.transpose(a_2))\n",
    "        Delta_1 = Delta_1 + np.dot(d_2, np.transpose(a_1))\n",
    "    \n",
    "    Theta1_grad = Delta_1 * 1/m;\n",
    "    Theta2_grad = Delta_2 * 1/m;\n",
    "    \n",
    "    Theta1_grad[:,1:] = Theta1_grad[:,1:] + lam/m * Theta1[:,1:]\n",
    "    Theta2_grad[:,1:] = Theta2_grad[:,1:] + lam/m * Theta2[:,1:]\n",
    "    t1 = Theta1_grad.flatten()\n",
    "    t2 = Theta2_grad.flatten()\n",
    "    \n",
    "    return np.concatenate([t1, t2])"
   ]
  },
  {
   "cell_type": "code",
   "execution_count": 8,
   "metadata": {
    "collapsed": true
   },
   "outputs": [],
   "source": [
    "def rand_init_weights(lin, lout):\n",
    "    epsilon_init = .1;\n",
    "    W = np.random.randn(lout, 1 + lin) * epsilon_init;\n",
    "    return W"
   ]
  },
  {
   "cell_type": "code",
   "execution_count": 9,
   "metadata": {
    "collapsed": false
   },
   "outputs": [],
   "source": [
    "def predict(Theta1, Theta2, X):\n",
    "    m = X.shape[0]\n",
    "    num_labels = Theta2.shape[0]\n",
    "    h1 = X;\n",
    "    h1 = np.c_[np.ones([X.shape[0],1]), X]\n",
    "    h1 = np.dot(h1, np.transpose(Theta1))\n",
    "    h2 = h1;\n",
    "    h2 = np.c_[np.ones([X.shape[0],1]), h1]\n",
    "    h2 = np.dot(h2, np.transpose(Theta2))\n",
    "    \n",
    "    return h2.argmax(axis = 1)"
   ]
  },
  {
   "cell_type": "code",
   "execution_count": 10,
   "metadata": {
    "collapsed": false
   },
   "outputs": [],
   "source": [
    "# Load the data\n",
    "d = sio.loadmat(file_name='ex4data1.mat')"
   ]
  },
  {
   "cell_type": "code",
   "execution_count": 98,
   "metadata": {
    "collapsed": false
   },
   "outputs": [
    {
     "name": "stdout",
     "output_type": "stream",
     "text": [
      "Testing training fraction 0.05...\n",
      "Starting optimization...\n",
      "Warning: Maximum number of iterations has been exceeded.\n",
      "         Current function value: 0.040188\n",
      "         Iterations: 50\n",
      "         Function evaluations: 154\n",
      "         Gradient evaluations: 154\n",
      "Finished optimization.\n",
      "Training error: 0.016000000000000014\n",
      "Cross Validation error: 0.18000000000000005\n",
      "Took 21.647434949874878 seconds\n",
      "\n",
      "\n",
      "Testing training fraction 0.0892857142857...\n",
      "Starting optimization...\n",
      "Warning: Maximum number of iterations has been exceeded.\n",
      "         Current function value: 0.035366\n",
      "         Iterations: 50\n",
      "         Function evaluations: 139\n",
      "         Gradient evaluations: 139\n",
      "Finished optimization.\n",
      "Training error: 0.0358744394618834\n",
      "Cross Validation error: 0.179372197309417\n",
      "Took 35.022398948669434 seconds\n",
      "\n",
      "\n",
      "Testing training fraction 0.128571428571...\n",
      "Starting optimization...\n",
      "Warning: Maximum number of iterations has been exceeded.\n",
      "         Current function value: 0.039077\n",
      "         Iterations: 50\n",
      "         Function evaluations: 125\n",
      "         Gradient evaluations: 125\n",
      "Finished optimization.\n",
      "Training error: 0.09657320872274144\n",
      "Cross Validation error: 0.16640746500777603\n",
      "Took 44.8132700920105 seconds\n",
      "\n",
      "\n",
      "Testing training fraction 0.167857142857...\n",
      "Starting optimization...\n",
      "Warning: Maximum number of iterations has been exceeded.\n",
      "         Current function value: 0.043704\n",
      "         Iterations: 50\n",
      "         Function evaluations: 116\n",
      "         Gradient evaluations: 116\n",
      "Finished optimization.\n",
      "Training error: 0.22646007151370684\n",
      "Cross Validation error: 0.28486293206197855\n",
      "Took 54.6850061416626 seconds\n",
      "\n",
      "\n",
      "Testing training fraction 0.207142857143...\n",
      "Starting optimization...\n",
      "Warning: Maximum number of iterations has been exceeded.\n",
      "         Current function value: 0.030450\n",
      "         Iterations: 50\n",
      "         Function evaluations: 135\n",
      "         Gradient evaluations: 135\n",
      "Finished optimization.\n",
      "Training error: 0.07536231884057976\n",
      "Cross Validation error: 0.16000000000000003\n",
      "Took 77.83471179008484 seconds\n",
      "\n",
      "\n",
      "Testing training fraction 0.246428571429...\n",
      "Starting optimization...\n",
      "Warning: Maximum number of iterations has been exceeded.\n",
      "         Current function value: 0.055094\n",
      "         Iterations: 50\n",
      "         Function evaluations: 119\n",
      "         Gradient evaluations: 119\n",
      "Finished optimization.\n",
      "Training error: 0.1696428571428571\n",
      "Cross Validation error: 0.252\n",
      "Took 81.76112103462219 seconds\n",
      "\n",
      "\n",
      "Testing training fraction 0.285714285714...\n",
      "Starting optimization...\n",
      "Warning: Maximum number of iterations has been exceeded.\n",
      "         Current function value: 0.075285\n",
      "         Iterations: 50\n",
      "         Function evaluations: 126\n",
      "         Gradient evaluations: 126\n",
      "Finished optimization.\n",
      "Training error: 0.1918767507002801\n",
      "Cross Validation error: 0.19799999999999995\n",
      "Took 99.99758386611938 seconds\n",
      "\n",
      "\n",
      "Testing training fraction 0.325...\n",
      "Starting optimization...\n",
      "Warning: Maximum number of iterations has been exceeded.\n",
      "         Current function value: 0.106059\n",
      "         Iterations: 50\n",
      "         Function evaluations: 121\n",
      "         Gradient evaluations: 121\n",
      "Finished optimization.\n",
      "Training error: 0.1533251231527094\n",
      "Cross Validation error: 0.19399999999999995\n",
      "Took 109.69183802604675 seconds\n",
      "\n",
      "\n",
      "Testing training fraction 0.364285714286...\n",
      "Starting optimization...\n",
      "Warning: Maximum number of iterations has been exceeded.\n",
      "         Current function value: 0.076303\n",
      "         Iterations: 50\n",
      "         Function evaluations: 125\n",
      "         Gradient evaluations: 125\n",
      "Finished optimization.\n",
      "Training error: 0.14332784184514002\n",
      "Cross Validation error: 0.19899999999999995\n",
      "Took 127.38537311553955 seconds\n",
      "\n",
      "\n",
      "Testing training fraction 0.403571428571...\n",
      "Starting optimization...\n",
      "Warning: Maximum number of iterations has been exceeded.\n",
      "         Current function value: 0.172809\n",
      "         Iterations: 50\n",
      "         Function evaluations: 111\n",
      "         Gradient evaluations: 111\n",
      "Finished optimization.\n",
      "Training error: 0.14724838869608325\n",
      "Cross Validation error: 0.20099999999999996\n",
      "Took 124.71570920944214 seconds\n",
      "\n",
      "\n",
      "Testing training fraction 0.442857142857...\n",
      "Starting optimization...\n",
      "Warning: Maximum number of iterations has been exceeded.\n",
      "         Current function value: 0.128621\n",
      "         Iterations: 50\n",
      "         Function evaluations: 112\n",
      "         Gradient evaluations: 112\n",
      "Finished optimization.\n",
      "Training error: 0.19105691056910568\n",
      "Cross Validation error: 0.23199999999999998\n",
      "Took 138.24068307876587 seconds\n",
      "\n",
      "\n",
      "Testing training fraction 0.482142857143...\n",
      "Starting optimization...\n",
      "Warning: Maximum number of iterations has been exceeded.\n",
      "         Current function value: 0.154731\n",
      "         Iterations: 50\n",
      "         Function evaluations: 113\n",
      "         Gradient evaluations: 113\n",
      "Finished optimization.\n",
      "Training error: 0.19875518672199166\n",
      "Cross Validation error: 0.22299999999999998\n",
      "Took 151.89066100120544 seconds\n",
      "\n",
      "\n",
      "Testing training fraction 0.521428571429...\n",
      "Starting optimization...\n",
      "Warning: Maximum number of iterations has been exceeded.\n",
      "         Current function value: 0.179977\n",
      "         Iterations: 50\n",
      "         Function evaluations: 117\n",
      "         Gradient evaluations: 117\n",
      "Finished optimization.\n",
      "Training error: 0.2067510548523207\n",
      "Cross Validation error: 0.23199999999999998\n",
      "Took 170.0188889503479 seconds\n",
      "\n",
      "\n",
      "Testing training fraction 0.560714285714...\n",
      "Starting optimization...\n",
      "Warning: Maximum number of iterations has been exceeded.\n",
      "         Current function value: 0.143442\n",
      "         Iterations: 50\n",
      "         Function evaluations: 121\n",
      "         Gradient evaluations: 121\n",
      "Finished optimization.\n",
      "Training error: 0.24545130217623978\n",
      "Cross Validation error: 0.265\n",
      "Took 189.33522295951843 seconds\n",
      "\n",
      "\n",
      "Testing training fraction 0.6...\n",
      "Starting optimization...\n",
      "Warning: Maximum number of iterations has been exceeded.\n",
      "         Current function value: 0.192581\n",
      "         Iterations: 50\n",
      "         Function evaluations: 117\n",
      "         Gradient evaluations: 117\n",
      "Finished optimization.\n",
      "Training error: 0.17000000000000004\n",
      "Cross Validation error: 0.20499999999999996\n",
      "Took 196.1540470123291 seconds\n",
      "\n",
      "\n",
      "Time for learning curves exploration: 1623.1960279941559\n"
     ]
    }
   ],
   "source": [
    "# \"Live\" Section\n",
    "INPUT_LAYERS = 400\n",
    "HIDDEN_LAYERS = 25\n",
    "OUTPUT_LAYERS = 10\n",
    "\n",
    "OPTIM_MAX_ITER = 50\n",
    "\n",
    "#Gather data for learning curves\n",
    "\n",
    "optim_times = []\n",
    "cv_error_vector = []\n",
    "training_error_vector = []\n",
    "training_examples_vector = []\n",
    "\n",
    "training_results_vector = []\n",
    "\n",
    "TT0 = time.time()\n",
    "trainfracs_tests = np.linspace(start = .05, stop = .6, num = 15)\n",
    "for trainfrac in trainfracs_tests:\n",
    "    print(\"Testing training fraction \" + str(trainfrac) + \"...\")\n",
    "    t0 = time.time()\n",
    "\n",
    "    X = d['X']\n",
    "    np.random.seed(1234)\n",
    "    np.random.shuffle(X)\n",
    "\n",
    "    y = d['y']\n",
    "    np.random.seed(1234)\n",
    "    np.random.shuffle(y)\n",
    "    TRAIN_FRACTION = trainfrac\n",
    "    CV_FRACTION = min(trainfrac, .2)\n",
    "    TEST_FRACTION = .2\n",
    "\n",
    "    X_train = X[0:int(np.floor(X.shape[0] * TRAIN_FRACTION)),:]\n",
    "    y_train = y[0:int(np.floor(y.shape[0] * TRAIN_FRACTION)),:]\n",
    "\n",
    "    X_cv = X[int(np.floor(X.shape[0] * TRAIN_FRACTION)):int(np.floor(X.shape[0] * (TRAIN_FRACTION + CV_FRACTION))),:]\n",
    "    y_cv = y[int(np.floor(X.shape[0] * TRAIN_FRACTION)):int(np.floor(X.shape[0] * (TRAIN_FRACTION + CV_FRACTION))),:]\n",
    "\n",
    "    X_test = X[int(np.floor(X.shape[0] * (TRAIN_FRACTION + CV_FRACTION))):,:]\n",
    "    y_test = y[int(np.floor(X.shape[0] * (TRAIN_FRACTION + CV_FRACTION))):,:]\n",
    "\n",
    "    init_theta1 = rand_init_weights(INPUT_LAYERS, HIDDEN_LAYERS).flatten()\n",
    "    init_theta2 = rand_init_weights(HIDDEN_LAYERS, OUTPUT_LAYERS).flatten()\n",
    "\n",
    "    init_params = np.concatenate([init_theta1, init_theta2])\n",
    "\n",
    "    lam = .01\n",
    "\n",
    "    params = (INPUT_LAYERS, HIDDEN_LAYERS, OUTPUT_LAYERS, X_train, y_train, lam)\n",
    "\n",
    "    opts = {'disp':True, 'maxiter':OPTIM_MAX_ITER}\n",
    "\n",
    "    print(\"Starting optimization...\")\n",
    "    res = spo.minimize(cost_function, init_params, method = 'CG', jac = jacobian, args = params, tol = 1e-4, options = opts)\n",
    "    print(\"Finished optimization.\")\n",
    "    training_results_vector.append(res)\n",
    "#         print(\"Optimization for \" + str(OPTIM_MAX_ITER) + \" iteration took \" + str(total_time))\n",
    "\n",
    "    theta_out = res['x']\n",
    "\n",
    "    split_indx = HIDDEN_LAYERS * (INPUT_LAYERS + 1);\n",
    "\n",
    "    Theta1 = np.reshape(theta_out[0:split_indx], [HIDDEN_LAYERS, INPUT_LAYERS + 1])\n",
    "    Theta2 = np.reshape(theta_out[split_indx:] , [OUTPUT_LAYERS, HIDDEN_LAYERS + 1] )\n",
    "\n",
    "    # Calculate the training error\n",
    "    preds_train = predict(Theta1, Theta2, X_train) + 1\n",
    "    correct = 0;\n",
    "    total = len(y_train);\n",
    "    for k in range(0,len(y_train)):\n",
    "        predic = preds_train[k]\n",
    "        acts = y_train[k]\n",
    "        if predic == acts:\n",
    "            correct += 1\n",
    "    err_train = 1 - correct/total\n",
    "    training_error_vector.append(err_train)\n",
    "    print(\"Training error: \" + str(err_train))\n",
    "    \n",
    "    # Calculate the cross validation error\n",
    "    preds_cv = predict(Theta1, Theta2, X_cv) + 1\n",
    "    correct = 0;\n",
    "    total = len(y_cv);\n",
    "    for k in range(1,len(y_cv)):\n",
    "        predic = preds_cv[k]\n",
    "        acts = y_cv[k]\n",
    "        if predic == acts:\n",
    "            correct += 1\n",
    "    err_cv = 1 - correct/total\n",
    "    cv_error_vector.append(err_cv)\n",
    "    print(\"Cross Validation error: \" + str(err_cv))\n",
    "    \n",
    "    t1 = time.time()\n",
    "    total_time = t1 - t0\n",
    "    x_len = len(X_train)\n",
    "    print(\"Took \" + str(total_time) + \" seconds\")\n",
    "    print(\"\\n\")\n",
    "    optim_times.append(total_time)\n",
    "    training_examples_vector.append(x_len)\n",
    "\n",
    "\n",
    "\n",
    "TT1 = time.time()\n",
    "print(\"Time for learning curves exploration: \" + str(TT1 - TT0))"
   ]
  },
  {
   "cell_type": "code",
   "execution_count": 81,
   "metadata": {
    "collapsed": false,
    "scrolled": true
   },
   "outputs": [
    {
     "name": "stdout",
     "output_type": "stream",
     "text": [
      "Testing lambda = 0...\n"
     ]
    },
    {
     "ename": "KeyboardInterrupt",
     "evalue": "",
     "output_type": "error",
     "traceback": [
      "\u001b[0;31m---------------------------------------------------------------------------\u001b[0m",
      "\u001b[0;31mKeyboardInterrupt\u001b[0m                         Traceback (most recent call last)",
      "\u001b[0;32m<ipython-input-81-9bc7233394a7>\u001b[0m in \u001b[0;36m<module>\u001b[0;34m()\u001b[0m\n\u001b[1;32m     43\u001b[0m     \u001b[0mopts\u001b[0m \u001b[0;34m=\u001b[0m \u001b[0;34m{\u001b[0m\u001b[0;34m'disp'\u001b[0m\u001b[0;34m:\u001b[0m\u001b[0;32mTrue\u001b[0m\u001b[0;34m,\u001b[0m \u001b[0;34m'maxiter'\u001b[0m\u001b[0;34m:\u001b[0m\u001b[0mOPTIM_MAX_ITER\u001b[0m\u001b[0;34m}\u001b[0m\u001b[0;34m\u001b[0m\u001b[0m\n\u001b[1;32m     44\u001b[0m \u001b[0;34m\u001b[0m\u001b[0m\n\u001b[0;32m---> 45\u001b[0;31m     \u001b[0mres\u001b[0m \u001b[0;34m=\u001b[0m \u001b[0mspo\u001b[0m\u001b[0;34m.\u001b[0m\u001b[0mminimize\u001b[0m\u001b[0;34m(\u001b[0m\u001b[0mcost_function\u001b[0m\u001b[0;34m,\u001b[0m \u001b[0minit_params\u001b[0m\u001b[0;34m,\u001b[0m \u001b[0mmethod\u001b[0m \u001b[0;34m=\u001b[0m \u001b[0;34m'CG'\u001b[0m\u001b[0;34m,\u001b[0m \u001b[0mjac\u001b[0m \u001b[0;34m=\u001b[0m \u001b[0mjacobian\u001b[0m\u001b[0;34m,\u001b[0m \u001b[0margs\u001b[0m \u001b[0;34m=\u001b[0m \u001b[0mparams\u001b[0m\u001b[0;34m,\u001b[0m \u001b[0mtol\u001b[0m \u001b[0;34m=\u001b[0m \u001b[0;36m1e-4\u001b[0m\u001b[0;34m,\u001b[0m \u001b[0moptions\u001b[0m \u001b[0;34m=\u001b[0m \u001b[0mopts\u001b[0m\u001b[0;34m)\u001b[0m\u001b[0;34m\u001b[0m\u001b[0m\n\u001b[0m\u001b[1;32m     46\u001b[0m \u001b[0;34m\u001b[0m\u001b[0m\n\u001b[1;32m     47\u001b[0m \u001b[0;31m#         print(\"Optimization for \" + str(OPTIM_MAX_ITER) + \" iteration took \" + str(total_time))\u001b[0m\u001b[0;34m\u001b[0m\u001b[0;34m\u001b[0m\u001b[0m\n",
      "\u001b[0;32m/usr/local/lib/python3.4/site-packages/scipy/optimize/_minimize.py\u001b[0m in \u001b[0;36mminimize\u001b[0;34m(fun, x0, args, method, jac, hess, hessp, bounds, constraints, tol, callback, options)\u001b[0m\n\u001b[1;32m    440\u001b[0m         \u001b[0;32mreturn\u001b[0m \u001b[0m_minimize_powell\u001b[0m\u001b[0;34m(\u001b[0m\u001b[0mfun\u001b[0m\u001b[0;34m,\u001b[0m \u001b[0mx0\u001b[0m\u001b[0;34m,\u001b[0m \u001b[0margs\u001b[0m\u001b[0;34m,\u001b[0m \u001b[0mcallback\u001b[0m\u001b[0;34m,\u001b[0m \u001b[0;34m**\u001b[0m\u001b[0moptions\u001b[0m\u001b[0;34m)\u001b[0m\u001b[0;34m\u001b[0m\u001b[0m\n\u001b[1;32m    441\u001b[0m     \u001b[0;32melif\u001b[0m \u001b[0mmeth\u001b[0m \u001b[0;34m==\u001b[0m \u001b[0;34m'cg'\u001b[0m\u001b[0;34m:\u001b[0m\u001b[0;34m\u001b[0m\u001b[0m\n\u001b[0;32m--> 442\u001b[0;31m         \u001b[0;32mreturn\u001b[0m \u001b[0m_minimize_cg\u001b[0m\u001b[0;34m(\u001b[0m\u001b[0mfun\u001b[0m\u001b[0;34m,\u001b[0m \u001b[0mx0\u001b[0m\u001b[0;34m,\u001b[0m \u001b[0margs\u001b[0m\u001b[0;34m,\u001b[0m \u001b[0mjac\u001b[0m\u001b[0;34m,\u001b[0m \u001b[0mcallback\u001b[0m\u001b[0;34m,\u001b[0m \u001b[0;34m**\u001b[0m\u001b[0moptions\u001b[0m\u001b[0;34m)\u001b[0m\u001b[0;34m\u001b[0m\u001b[0m\n\u001b[0m\u001b[1;32m    443\u001b[0m     \u001b[0;32melif\u001b[0m \u001b[0mmeth\u001b[0m \u001b[0;34m==\u001b[0m \u001b[0;34m'bfgs'\u001b[0m\u001b[0;34m:\u001b[0m\u001b[0;34m\u001b[0m\u001b[0m\n\u001b[1;32m    444\u001b[0m         \u001b[0;32mreturn\u001b[0m \u001b[0m_minimize_bfgs\u001b[0m\u001b[0;34m(\u001b[0m\u001b[0mfun\u001b[0m\u001b[0;34m,\u001b[0m \u001b[0mx0\u001b[0m\u001b[0;34m,\u001b[0m \u001b[0margs\u001b[0m\u001b[0;34m,\u001b[0m \u001b[0mjac\u001b[0m\u001b[0;34m,\u001b[0m \u001b[0mcallback\u001b[0m\u001b[0;34m,\u001b[0m \u001b[0;34m**\u001b[0m\u001b[0moptions\u001b[0m\u001b[0;34m)\u001b[0m\u001b[0;34m\u001b[0m\u001b[0m\n",
      "\u001b[0;32m/usr/local/lib/python3.4/site-packages/scipy/optimize/optimize.py\u001b[0m in \u001b[0;36m_minimize_cg\u001b[0;34m(fun, x0, args, jac, callback, gtol, norm, eps, maxiter, disp, return_all, **unknown_options)\u001b[0m\n\u001b[1;32m   1245\u001b[0m             \u001b[0malpha_k\u001b[0m\u001b[0;34m,\u001b[0m \u001b[0mfc\u001b[0m\u001b[0;34m,\u001b[0m \u001b[0mgc\u001b[0m\u001b[0;34m,\u001b[0m \u001b[0mold_fval\u001b[0m\u001b[0;34m,\u001b[0m \u001b[0mold_old_fval\u001b[0m\u001b[0;34m,\u001b[0m \u001b[0mgfkp1\u001b[0m \u001b[0;34m=\u001b[0m\u001b[0;31m \u001b[0m\u001b[0;31m\\\u001b[0m\u001b[0;34m\u001b[0m\u001b[0m\n\u001b[1;32m   1246\u001b[0m                      _line_search_wolfe12(f, myfprime, xk, pk, gfk, old_fval,\n\u001b[0;32m-> 1247\u001b[0;31m                                           old_old_fval, c2=0.4, amin=1e-100, amax=1e100)\n\u001b[0m\u001b[1;32m   1248\u001b[0m         \u001b[0;32mexcept\u001b[0m \u001b[0m_LineSearchError\u001b[0m\u001b[0;34m:\u001b[0m\u001b[0;34m\u001b[0m\u001b[0m\n\u001b[1;32m   1249\u001b[0m             \u001b[0;31m# Line search failed to find a better solution.\u001b[0m\u001b[0;34m\u001b[0m\u001b[0;34m\u001b[0m\u001b[0m\n",
      "\u001b[0;32m/usr/local/lib/python3.4/site-packages/scipy/optimize/optimize.py\u001b[0m in \u001b[0;36m_line_search_wolfe12\u001b[0;34m(f, fprime, xk, pk, gfk, old_fval, old_old_fval, **kwargs)\u001b[0m\n\u001b[1;32m    763\u001b[0m     ret = line_search_wolfe1(f, fprime, xk, pk, gfk,\n\u001b[1;32m    764\u001b[0m                              \u001b[0mold_fval\u001b[0m\u001b[0;34m,\u001b[0m \u001b[0mold_old_fval\u001b[0m\u001b[0;34m,\u001b[0m\u001b[0;34m\u001b[0m\u001b[0m\n\u001b[0;32m--> 765\u001b[0;31m                              **kwargs)\n\u001b[0m\u001b[1;32m    766\u001b[0m \u001b[0;34m\u001b[0m\u001b[0m\n\u001b[1;32m    767\u001b[0m     \u001b[0;32mif\u001b[0m \u001b[0mret\u001b[0m\u001b[0;34m[\u001b[0m\u001b[0;36m0\u001b[0m\u001b[0;34m]\u001b[0m \u001b[0;32mis\u001b[0m \u001b[0;32mNone\u001b[0m\u001b[0;34m:\u001b[0m\u001b[0;34m\u001b[0m\u001b[0m\n",
      "\u001b[0;32m/usr/local/lib/python3.4/site-packages/scipy/optimize/linesearch.py\u001b[0m in \u001b[0;36mline_search_wolfe1\u001b[0;34m(f, fprime, xk, pk, gfk, old_fval, old_old_fval, args, c1, c2, amax, amin, xtol)\u001b[0m\n\u001b[1;32m     99\u001b[0m     stp, fval, old_fval = scalar_search_wolfe1(\n\u001b[1;32m    100\u001b[0m             \u001b[0mphi\u001b[0m\u001b[0;34m,\u001b[0m \u001b[0mderphi\u001b[0m\u001b[0;34m,\u001b[0m \u001b[0mold_fval\u001b[0m\u001b[0;34m,\u001b[0m \u001b[0mold_old_fval\u001b[0m\u001b[0;34m,\u001b[0m \u001b[0mderphi0\u001b[0m\u001b[0;34m,\u001b[0m\u001b[0;34m\u001b[0m\u001b[0m\n\u001b[0;32m--> 101\u001b[0;31m             c1=c1, c2=c2, amax=amax, amin=amin, xtol=xtol)\n\u001b[0m\u001b[1;32m    102\u001b[0m \u001b[0;34m\u001b[0m\u001b[0m\n\u001b[1;32m    103\u001b[0m     \u001b[0;32mreturn\u001b[0m \u001b[0mstp\u001b[0m\u001b[0;34m,\u001b[0m \u001b[0mfc\u001b[0m\u001b[0;34m[\u001b[0m\u001b[0;36m0\u001b[0m\u001b[0;34m]\u001b[0m\u001b[0;34m,\u001b[0m \u001b[0mgc\u001b[0m\u001b[0;34m[\u001b[0m\u001b[0;36m0\u001b[0m\u001b[0;34m]\u001b[0m\u001b[0;34m,\u001b[0m \u001b[0mfval\u001b[0m\u001b[0;34m,\u001b[0m \u001b[0mold_fval\u001b[0m\u001b[0;34m,\u001b[0m \u001b[0mgval\u001b[0m\u001b[0;34m[\u001b[0m\u001b[0;36m0\u001b[0m\u001b[0;34m]\u001b[0m\u001b[0;34m\u001b[0m\u001b[0m\n",
      "\u001b[0;32m/usr/local/lib/python3.4/site-packages/scipy/optimize/linesearch.py\u001b[0m in \u001b[0;36mscalar_search_wolfe1\u001b[0;34m(phi, derphi, phi0, old_phi0, derphi0, c1, c2, amax, amin, xtol)\u001b[0m\n\u001b[1;32m    172\u001b[0m         \u001b[0;32mif\u001b[0m \u001b[0mtask\u001b[0m\u001b[0;34m[\u001b[0m\u001b[0;34m:\u001b[0m\u001b[0;36m2\u001b[0m\u001b[0;34m]\u001b[0m \u001b[0;34m==\u001b[0m \u001b[0;34mb'FG'\u001b[0m\u001b[0;34m:\u001b[0m\u001b[0;34m\u001b[0m\u001b[0m\n\u001b[1;32m    173\u001b[0m             \u001b[0malpha1\u001b[0m \u001b[0;34m=\u001b[0m \u001b[0mstp\u001b[0m\u001b[0;34m\u001b[0m\u001b[0m\n\u001b[0;32m--> 174\u001b[0;31m             \u001b[0mphi1\u001b[0m \u001b[0;34m=\u001b[0m \u001b[0mphi\u001b[0m\u001b[0;34m(\u001b[0m\u001b[0mstp\u001b[0m\u001b[0;34m)\u001b[0m\u001b[0;34m\u001b[0m\u001b[0m\n\u001b[0m\u001b[1;32m    175\u001b[0m             \u001b[0mderphi1\u001b[0m \u001b[0;34m=\u001b[0m \u001b[0mderphi\u001b[0m\u001b[0;34m(\u001b[0m\u001b[0mstp\u001b[0m\u001b[0;34m)\u001b[0m\u001b[0;34m\u001b[0m\u001b[0m\n\u001b[1;32m    176\u001b[0m         \u001b[0;32melse\u001b[0m\u001b[0;34m:\u001b[0m\u001b[0;34m\u001b[0m\u001b[0m\n",
      "\u001b[0;32m/usr/local/lib/python3.4/site-packages/scipy/optimize/linesearch.py\u001b[0m in \u001b[0;36mphi\u001b[0;34m(s)\u001b[0m\n\u001b[1;32m     85\u001b[0m     \u001b[0;32mdef\u001b[0m \u001b[0mphi\u001b[0m\u001b[0;34m(\u001b[0m\u001b[0ms\u001b[0m\u001b[0;34m)\u001b[0m\u001b[0;34m:\u001b[0m\u001b[0;34m\u001b[0m\u001b[0m\n\u001b[1;32m     86\u001b[0m         \u001b[0mfc\u001b[0m\u001b[0;34m[\u001b[0m\u001b[0;36m0\u001b[0m\u001b[0;34m]\u001b[0m \u001b[0;34m+=\u001b[0m \u001b[0;36m1\u001b[0m\u001b[0;34m\u001b[0m\u001b[0m\n\u001b[0;32m---> 87\u001b[0;31m         \u001b[0;32mreturn\u001b[0m \u001b[0mf\u001b[0m\u001b[0;34m(\u001b[0m\u001b[0mxk\u001b[0m \u001b[0;34m+\u001b[0m \u001b[0ms\u001b[0m\u001b[0;34m*\u001b[0m\u001b[0mpk\u001b[0m\u001b[0;34m,\u001b[0m \u001b[0;34m*\u001b[0m\u001b[0margs\u001b[0m\u001b[0;34m)\u001b[0m\u001b[0;34m\u001b[0m\u001b[0m\n\u001b[0m\u001b[1;32m     88\u001b[0m \u001b[0;34m\u001b[0m\u001b[0m\n\u001b[1;32m     89\u001b[0m     \u001b[0;32mdef\u001b[0m \u001b[0mderphi\u001b[0m\u001b[0;34m(\u001b[0m\u001b[0ms\u001b[0m\u001b[0;34m)\u001b[0m\u001b[0;34m:\u001b[0m\u001b[0;34m\u001b[0m\u001b[0m\n",
      "\u001b[0;32m/usr/local/lib/python3.4/site-packages/scipy/optimize/optimize.py\u001b[0m in \u001b[0;36mfunction_wrapper\u001b[0;34m(*wrapper_args)\u001b[0m\n\u001b[1;32m    290\u001b[0m     \u001b[0;32mdef\u001b[0m \u001b[0mfunction_wrapper\u001b[0m\u001b[0;34m(\u001b[0m\u001b[0;34m*\u001b[0m\u001b[0mwrapper_args\u001b[0m\u001b[0;34m)\u001b[0m\u001b[0;34m:\u001b[0m\u001b[0;34m\u001b[0m\u001b[0m\n\u001b[1;32m    291\u001b[0m         \u001b[0mncalls\u001b[0m\u001b[0;34m[\u001b[0m\u001b[0;36m0\u001b[0m\u001b[0;34m]\u001b[0m \u001b[0;34m+=\u001b[0m \u001b[0;36m1\u001b[0m\u001b[0;34m\u001b[0m\u001b[0m\n\u001b[0;32m--> 292\u001b[0;31m         \u001b[0;32mreturn\u001b[0m \u001b[0mfunction\u001b[0m\u001b[0;34m(\u001b[0m\u001b[0;34m*\u001b[0m\u001b[0;34m(\u001b[0m\u001b[0mwrapper_args\u001b[0m \u001b[0;34m+\u001b[0m \u001b[0margs\u001b[0m\u001b[0;34m)\u001b[0m\u001b[0;34m)\u001b[0m\u001b[0;34m\u001b[0m\u001b[0m\n\u001b[0m\u001b[1;32m    293\u001b[0m \u001b[0;34m\u001b[0m\u001b[0m\n\u001b[1;32m    294\u001b[0m     \u001b[0;32mreturn\u001b[0m \u001b[0mncalls\u001b[0m\u001b[0;34m,\u001b[0m \u001b[0mfunction_wrapper\u001b[0m\u001b[0;34m\u001b[0m\u001b[0m\n",
      "\u001b[0;32m<ipython-input-3-053d4376c420>\u001b[0m in \u001b[0;36mcost_function\u001b[0;34m(nn_params, il_size, hl_size, num_labels, X, y, lam)\u001b[0m\n\u001b[1;32m     49\u001b[0m         \u001b[0mTheta1_temp\u001b[0m \u001b[0;34m=\u001b[0m \u001b[0mTheta1\u001b[0m\u001b[0;34m[\u001b[0m\u001b[0;34m:\u001b[0m\u001b[0;34m,\u001b[0m\u001b[0;36m1\u001b[0m\u001b[0;34m:\u001b[0m\u001b[0;34m]\u001b[0m\u001b[0;34m\u001b[0m\u001b[0m\n\u001b[1;32m     50\u001b[0m         \u001b[0mTheta2_temp\u001b[0m \u001b[0;34m=\u001b[0m \u001b[0mTheta2\u001b[0m\u001b[0;34m[\u001b[0m\u001b[0;34m:\u001b[0m\u001b[0;34m,\u001b[0m\u001b[0;36m1\u001b[0m\u001b[0;34m:\u001b[0m\u001b[0;34m]\u001b[0m\u001b[0;34m\u001b[0m\u001b[0m\n\u001b[0;32m---> 51\u001b[0;31m         \u001b[0mregterm\u001b[0m \u001b[0;34m=\u001b[0m \u001b[0;34m(\u001b[0m\u001b[0mlam\u001b[0m \u001b[0;34m/\u001b[0m \u001b[0;34m(\u001b[0m\u001b[0;36m2\u001b[0m \u001b[0;34m*\u001b[0m \u001b[0mm\u001b[0m\u001b[0;34m)\u001b[0m\u001b[0;34m)\u001b[0m \u001b[0;34m*\u001b[0m \u001b[0;34m(\u001b[0m\u001b[0mnp\u001b[0m\u001b[0;34m.\u001b[0m\u001b[0msum\u001b[0m\u001b[0;34m(\u001b[0m\u001b[0mnp\u001b[0m\u001b[0;34m.\u001b[0m\u001b[0mpower\u001b[0m\u001b[0;34m(\u001b[0m\u001b[0mTheta1_temp\u001b[0m\u001b[0;34m.\u001b[0m\u001b[0mflatten\u001b[0m\u001b[0;34m(\u001b[0m\u001b[0;34m)\u001b[0m\u001b[0;34m,\u001b[0m\u001b[0;36m2\u001b[0m\u001b[0;34m)\u001b[0m\u001b[0;34m)\u001b[0m \u001b[0;34m+\u001b[0m \u001b[0mnp\u001b[0m\u001b[0;34m.\u001b[0m\u001b[0msum\u001b[0m\u001b[0;34m(\u001b[0m\u001b[0mnp\u001b[0m\u001b[0;34m.\u001b[0m\u001b[0mpower\u001b[0m\u001b[0;34m(\u001b[0m\u001b[0mTheta2_temp\u001b[0m\u001b[0;34m.\u001b[0m\u001b[0mflatten\u001b[0m\u001b[0;34m(\u001b[0m\u001b[0;34m)\u001b[0m\u001b[0;34m,\u001b[0m\u001b[0;36m2\u001b[0m\u001b[0;34m)\u001b[0m\u001b[0;34m)\u001b[0m\u001b[0;34m)\u001b[0m\u001b[0;34m\u001b[0m\u001b[0m\n\u001b[0m\u001b[1;32m     52\u001b[0m         \u001b[0mJ\u001b[0m \u001b[0;34m=\u001b[0m \u001b[0mJ\u001b[0m \u001b[0;34m+\u001b[0m \u001b[0mregterm\u001b[0m\u001b[0;34m\u001b[0m\u001b[0m\n\u001b[1;32m     53\u001b[0m     \u001b[0;32mreturn\u001b[0m \u001b[0mJ\u001b[0m\u001b[0;34m/\u001b[0m\u001b[0mm\u001b[0m\u001b[0;34m\u001b[0m\u001b[0m\n",
      "\u001b[0;31mKeyboardInterrupt\u001b[0m: "
     ]
    }
   ],
   "source": [
    "train_error_vector_lam = []\n",
    "cv_error_vector_lam = []\n",
    "optim_times_lam = []\n",
    "lamchoices = [0, .0001, .0003, .001, .003, .01, .03, .1, .3, 1, 3]\n",
    "\n",
    "reg_results = []\n",
    "\n",
    "\n",
    "for lamex in lamchoices:\n",
    "    print(\"Testing lambda = \" + str(lamex) + \"...\")\n",
    "    t0 = time.time()\n",
    "#     try:\n",
    "    X = d['X']\n",
    "    np.random.seed(1234)\n",
    "    np.random.shuffle(X)\n",
    "\n",
    "    y = d['y']\n",
    "    np.random.seed(1234)\n",
    "    np.random.shuffle(y)\n",
    "\n",
    "    TRAIN_FRACTION = .6\n",
    "    CV_FRACTION = .2\n",
    "    TEST_FRACTION = .2\n",
    "\n",
    "    X_train = X[0:int(np.floor(X.shape[0] * TRAIN_FRACTION)),:]\n",
    "    y_train = y[0:int(np.floor(y.shape[0] * TRAIN_FRACTION)),:]\n",
    "\n",
    "    X_cv = X[int(np.floor(X.shape[0] * TRAIN_FRACTION)):int(np.floor(X.shape[0] * (TRAIN_FRACTION + CV_FRACTION))),:]\n",
    "    y_cv = y[int(np.floor(X.shape[0] * TRAIN_FRACTION)):int(np.floor(X.shape[0] * (TRAIN_FRACTION + CV_FRACTION))),:]\n",
    "\n",
    "    X_test = X[int(np.floor(X.shape[0] * (TRAIN_FRACTION + CV_FRACTION))):,:]\n",
    "    y_test = y[int(np.floor(X.shape[0] * (TRAIN_FRACTION + CV_FRACTION))):,:]\n",
    "\n",
    "    init_theta1 = rand_init_weights(INPUT_LAYERS, HIDDEN_LAYERS).flatten()\n",
    "    init_theta2 = rand_init_weights(HIDDEN_LAYERS, OUTPUT_LAYERS).flatten()\n",
    "\n",
    "    init_params = np.concatenate([init_theta1, init_theta2])\n",
    "\n",
    "    lam = lamex\n",
    "\n",
    "    params = (INPUT_LAYERS, HIDDEN_LAYERS, OUTPUT_LAYERS, X_train, y_train, lam)\n",
    "\n",
    "    opts = {'disp':True, 'maxiter':OPTIM_MAX_ITER}\n",
    "\n",
    "    res = spo.minimize(cost_function, init_params, method = 'CG', jac = jacobian, args = params, tol = 1e-4, options = opts)\n",
    "\n",
    "#         print(\"Optimization for \" + str(OPTIM_MAX_ITER) + \" iteration took \" + str(total_time))\n",
    "    reg_results.append(res)\n",
    "    theta_out = res['x']\n",
    "\n",
    "    split_indx = HIDDEN_LAYERS * (INPUT_LAYERS + 1);\n",
    "\n",
    "    Theta1 = np.reshape(theta_out[0:split_indx], [HIDDEN_LAYERS, INPUT_LAYERS + 1])\n",
    "    Theta2 = np.reshape(theta_out[split_indx:] , [OUTPUT_LAYERS, HIDDEN_LAYERS + 1] )\n",
    "\n",
    "       \n",
    "    # Calculate the training error\n",
    "    correct = 0;\n",
    "    total = len(y_train);\n",
    "    preds_train = predict(Theta1, Theta2, X_train) + 1\n",
    "    for k in range(1,len(y_train)):\n",
    "        predic = preds_train[k]\n",
    "        acts = y_train[k]\n",
    "        if predic == acts:\n",
    "            correct += 1\n",
    "            \n",
    "    err_train_lam = 1 - correct/total\n",
    "    \n",
    "    train_error_vector_lam.append(err_train_lam)\n",
    "    print(\"Training error: \" + str(err_train_lam))\n",
    "    \n",
    "    # Calculate the cross validation error\n",
    "    correct = 0;\n",
    "    total = len(y_cv);\n",
    "    preds_cv = predict(Theta1, Theta2, X_cv) + 1\n",
    "    for k in range(0,len(y_cv)):\n",
    "        predic = preds_cv[k]\n",
    "        acts = y_cv[k]\n",
    "        if predic == acts:\n",
    "            correct += 1\n",
    "    err_cv_lam = 1 - correct/total\n",
    "    cv_error_vector_lam.append(err_cv_lam)\n",
    "    print(\"Cross Validation error: \" + str(err_cv_lam))\n",
    "    \n",
    "    t1 = time.time()\n",
    "    total_time = t1 - t0\n",
    "    print(\"Took \" + str(total_time) + \" seconds\")\n",
    "\n",
    "    optim_times_lam.append(total_time)\n",
    "TT2 = time.time()\n",
    "print(\"Time for regularization testing: \" + str(TT2 - TT1))"
   ]
  },
  {
   "cell_type": "code",
   "execution_count": 99,
   "metadata": {
    "collapsed": false
   },
   "outputs": [
    {
     "data": {
      "text/plain": [
       "<matplotlib.legend.Legend at 0x1085d2630>"
      ]
     },
     "execution_count": 99,
     "metadata": {},
     "output_type": "execute_result"
    },
    {
     "data": {
      "image/png": "[encoded data removed]",
      "text/plain": [
       "<matplotlib.figure.Figure at 0x106258400>"
      ]
     },
     "metadata": {},
     "output_type": "display_data"
    }
   ],
   "source": [
    "ms = trainfracs_tests * X.shape[0]\n",
    "fig = plt.figure()\n",
    "ax =  fig.add_subplot(1,1,1)\n",
    "cv_line, = ax.plot(list(ms)[0:len(cv_error_vector)], cv_error_vector, color = 'blue')\n",
    "train_line, = ax.plot(list(ms)[0:len(training_error_vector)],training_error_vector, color='red')\n",
    "ax.set_ylim([0,.4])\n",
    "fig.suptitle(r\"Neural Net Learning Curves ($\\lambda = .01$)\", fontsize = 14)\n",
    "ax.legend([cv_line, train_line], ['Cross Validation Error', 'Training Error'])"
   ]
  },
  {
   "cell_type": "code",
   "execution_count": 69,
   "metadata": {
    "collapsed": false
   },
   "outputs": [
    {
     "data": {
      "text/plain": [
       "11"
      ]
     },
     "execution_count": 69,
     "metadata": {},
     "output_type": "execute_result"
    }
   ],
   "source": [
    "len(train_error_vector_lam)"
   ]
  },
  {
   "cell_type": "code",
   "execution_count": 79,
   "metadata": {
    "collapsed": false
   },
   "outputs": [
    {
     "data": {
      "text/plain": [
       "<matplotlib.legend.Legend at 0x1061cfac8>"
      ]
     },
     "execution_count": 79,
     "metadata": {},
     "output_type": "execute_result"
    },
    {
     "data": {
      "image/png": "[encoded data removed]",
      "text/plain": [
       "<matplotlib.figure.Figure at 0x1075aff28>"
      ]
     },
     "metadata": {},
     "output_type": "display_data"
    }
   ],
   "source": [
    "fig = plt.figure()\n",
    "ax = fig.add_subplot(1,1,1)\n",
    "line = ax.plot(lamchoices,cv_error_vector_lam, color='blue')\n",
    "line2 = ax.plot(lamchoices,train_error_vector_lam, color = 'red')\n",
    "ax.set_xscale('log')\n",
    "ax.set_ylim([0,.4])\n",
    "fig.suptitle(r\"Effect of regularization parameter $\\lambda$ with training fraction .6\", fontsize = 14)\n",
    "ax.legend([cv_line, train_line], ['Cross Validation Error', 'Training Error'])"
   ]
  },
  {
   "cell_type": "code",
   "execution_count": 125,
   "metadata": {
    "collapsed": false
   },
   "outputs": [
    {
     "data": {
      "text/plain": [
       "<matplotlib.image.AxesImage at 0x10a51a7f0>"
      ]
     },
     "execution_count": 125,
     "metadata": {},
     "output_type": "execute_result"
    },
    {
     "data": {
      "image/png": "[encoded data removed]",
      "text/plain": [
       "<matplotlib.figure.Figure at 0x1077075f8>"
      ]
     },
     "metadata": {},
     "output_type": "display_data"
    }
   ],
   "source": [
    "xq = np.reshape(X[10,:],[20, 20], order='F') * 255\n",
    "plt.imshow(xq, cmap = \"Greys\", interpolation=\"nearest\")"
   ]
  },
  {
   "cell_type": "code",
   "execution_count": 175,
   "metadata": {
    "collapsed": true
   },
   "outputs": [],
   "source": [
    "def visualize_learning(X, y, res, n, il=400, hl=25, ol=10):\n",
    "    theta_out = res['x']\n",
    "    split_indx = hl * (il + 1);\n",
    "\n",
    "    Theta1 = np.reshape(theta_out[0:split_indx], [hl, il + 1])\n",
    "    Theta2 = np.reshape(theta_out[split_indx:] , [ol, hl + 1] )\n",
    "    \n",
    "    preds = predict(Theta1, Theta2, X) + 1\n",
    "    \n",
    "    pk = preds[n]\n",
    "    xvals = X[n,:]\n",
    "    actual = y[n][0]\n",
    "    if pk == 10:\n",
    "        pk = 0\n",
    "    if actual == 10:\n",
    "        actual = 0\n",
    "    x_matrix = np.reshape(xvals, [20, 20], order='F')\n",
    "    plt.rcParams.update({'font.size': 18})\n",
    "    plt.imshow(x_matrix, cmap=\"Greys\")\n",
    "    plt.suptitle(\"Predicted: \" + str(pk) + \", Actual: \" + str(actual))\n",
    "    plt.axis(\"off\")"
   ]
  },
  {
   "cell_type": "code",
   "execution_count": 366,
   "metadata": {
    "collapsed": false
   },
   "outputs": [
    {
     "name": "stdout",
     "output_type": "stream",
     "text": [
      "10285\n"
     ]
    },
    {
     "data": {
      "image/png": "[encoded data removed]",
      "text/plain": [
       "<matplotlib.figure.Figure at 0x115d24f60>"
      ]
     },
     "metadata": {},
     "output_type": "display_data"
    }
   ],
   "source": [
    "visualize_learning(X_test, y_test, training_results_vector[14], 908)"
   ]
  },
  {
   "cell_type": "code",
   "execution_count": 143,
   "metadata": {
    "collapsed": false
   },
   "outputs": [
    {
     "data": {
      "text/plain": [
       "15"
      ]
     },
     "execution_count": 143,
     "metadata": {},
     "output_type": "execute_result"
    }
   ],
   "source": [
    "len(training_results_vector)"
   ]
  },
  {
   "cell_type": "code",
   "execution_count": 371,
   "metadata": {
    "collapsed": false
   },
   "outputs": [],
   "source": [
    "def gen_histogram(X, y, res, il=400, hl=25, ol=10):\n",
    "    theta_out = res['x']\n",
    "    split_indx = hl * (il + 1);\n",
    "\n",
    "    Theta1 = np.reshape(theta_out[0:split_indx], [hl, il + 1])\n",
    "    Theta2 = np.reshape(theta_out[split_indx:] , [ol, hl + 1] )\n",
    "    \n",
    "    preds = predict(Theta1, Theta2, X) + 1\n",
    "    \n",
    "    wrong_actual = []\n",
    "    wrong_predicted = []\n",
    "    plt.rcParams.update({'font.size': 14})\n",
    "\n",
    "    for k, item in enumerate(y):\n",
    "        pk = preds[k]\n",
    "        actual = y[k]\n",
    "        if pk == 10:\n",
    "            pk = 0\n",
    "        if actual == 10:\n",
    "            actual = 0\n",
    "            \n",
    "        if pk != actual:\n",
    "            wrong_predicted.append(pk)\n",
    "            wrong_actual.append(actual)\n",
    "    return (wrong_actual, wrong_predicted)"
   ]
  },
  {
   "cell_type": "code",
   "execution_count": 372,
   "metadata": {
    "collapsed": false
   },
   "outputs": [],
   "source": [
    "wrong_actual, wrong_predicted = gen_histogram(X, y, training_results_vector[14])"
   ]
  },
  {
   "cell_type": "code",
   "execution_count": 373,
   "metadata": {
    "collapsed": false
   },
   "outputs": [
    {
     "data": {
      "text/plain": [
       "<matplotlib.text.Text at 0x115da4b70>"
      ]
     },
     "execution_count": 373,
     "metadata": {},
     "output_type": "execute_result"
    },
    {
     "data": {
      "image/png": "[encoded data removed]",
      "text/plain": [
       "<matplotlib.figure.Figure at 0x115d425c0>"
      ]
     },
     "metadata": {},
     "output_type": "display_data"
    }
   ],
   "source": [
    "d = np.min(np.diff(np.unique(wrong_actual)))\n",
    "left_of_first_bin = np.min(wrong_actual) - float(d)/2\n",
    "right_of_last_bin = np.max(wrong_actual) + float(d)/2\n",
    "ds = [float(x) for x in wrong_actual]\n",
    "n, bins, patches = plt.hist(ds, np.arange(left_of_first_bin, right_of_last_bin + d, d), facecolor='blue', alpha=0.75)\n",
    "plt.xlim([-1,10])\n",
    "plt.xticks(range(0,10))\n",
    "plt.xlabel(\"Actual Value\")\n",
    "plt.ylabel(\"# Incorrect\")"
   ]
  },
  {
   "cell_type": "code",
   "execution_count": 374,
   "metadata": {
    "collapsed": false
   },
   "outputs": [
    {
     "data": {
      "text/plain": [
       "<matplotlib.text.Text at 0x115e47470>"
      ]
     },
     "execution_count": 374,
     "metadata": {},
     "output_type": "execute_result"
    },
    {
     "data": {
      "image/png": "[encoded data removed]",
      "text/plain": [
       "<matplotlib.figure.Figure at 0x115d29198>"
      ]
     },
     "metadata": {},
     "output_type": "display_data"
    }
   ],
   "source": [
    "d = np.min(np.diff(np.unique(wrong_predicted)))\n",
    "left_of_first_bin = np.min(wrong_predicted) - float(d)/2\n",
    "right_of_last_bin = np.max(wrong_predicted) + float(d)/2\n",
    "ds = [float(x) for x in wrong_predicted]\n",
    "n, bins, patches = plt.hist(ds, np.arange(left_of_first_bin, right_of_last_bin + d, d), facecolor='red', alpha=0.75)\n",
    "plt.xlim([-1,10])\n",
    "plt.xticks(range(0,10))\n",
    "plt.xlabel(\"Predicted Value\")\n",
    "plt.ylabel(\"# Incorrect\")"
   ]
  },
  {
   "cell_type": "code",
   "execution_count": null,
   "metadata": {
    "collapsed": false
   },
   "outputs": [],
   "source": [
    "len(ds)"
   ]
  },
  {
   "cell_type": "code",
   "execution_count": 194,
   "metadata": {
    "collapsed": false
   },
   "outputs": [
    {
     "data": {
      "text/plain": [
       "array([ 1,  2,  3,  4,  5,  6,  7,  8,  9, 10], dtype=uint8)"
      ]
     },
     "execution_count": 194,
     "metadata": {},
     "output_type": "execute_result"
    }
   ],
   "source": [
    "np.unique(y)"
   ]
  },
  {
   "cell_type": "code",
   "execution_count": 277,
   "metadata": {
    "collapsed": false
   },
   "outputs": [
    {
     "data": {
      "text/plain": [
       "array([  0, 500, 500, 500, 500, 500, 500, 500, 500, 500, 500])"
      ]
     },
     "execution_count": 277,
     "metadata": {},
     "output_type": "execute_result"
    }
   ],
   "source": [
    "np.bincount(y.flatten())"
   ]
  },
  {
   "cell_type": "code",
   "execution_count": 17,
   "metadata": {
    "collapsed": true
   },
   "outputs": [],
   "source": [
    "def train_and_eval(params, INPUT_LAYERS, HIDDEN_LAYERS, OUTPUT_LAYERS, maxiter = 50):\n",
    "    init_theta1 = rand_init_weights(INPUT_LAYERS, HIDDEN_LAYERS).flatten()\n",
    "    init_theta2 = rand_init_weights(HIDDEN_LAYERS, OUTPUT_LAYERS).flatten()\n",
    "\n",
    "    init_params = np.concatenate([init_theta1, init_theta2])\n",
    "    \n",
    "    opts = {'disp':True, 'maxiter':maxiter}\n",
    "\n",
    "    print(\"Optimizing...\")\n",
    "    res = spo.minimize(cost_function, init_params, method = 'CG', jac = jacobian, args = params, tol = 1e-4, options = opts)\n",
    "    print(\"Finished optimization.\")\n",
    "\n",
    "    theta_out = res['x']\n",
    "\n",
    "    split_indx = HIDDEN_LAYERS * (INPUT_LAYERS + 1);\n",
    "\n",
    "    Theta1 = np.reshape(theta_out[0:split_indx], [HIDDEN_LAYERS, INPUT_LAYERS + 1])\n",
    "    Theta2 = np.reshape(theta_out[split_indx:] , [OUTPUT_LAYERS, HIDDEN_LAYERS + 1] )\n",
    "\n",
    "    # Calculate the training error\n",
    "    preds_train = predict(Theta1, Theta2, X_train) + 1\n",
    "    correct = 0;\n",
    "    total = len(y_train);\n",
    "    for k in range(0,len(y_train)):\n",
    "        predic = preds_train[k]\n",
    "        acts = y_train[k]\n",
    "        if predic == acts:\n",
    "            correct += 1\n",
    "    err_train = 1 - correct/total\n",
    "\n",
    "    print(\"Training error: \" + str(err_train))\n",
    "    return (res, err_train)"
   ]
  },
  {
   "cell_type": "code",
   "execution_count": null,
   "metadata": {
    "collapsed": false,
    "scrolled": true
   },
   "outputs": [
    {
     "name": "stdout",
     "output_type": "stream",
     "text": [
      "Optimizing...\n"
     ]
    }
   ],
   "source": [
    "INPUT_NEURONS = 400\n",
    "HIDDEN_NEURONS = 25\n",
    "OUTPUT_NEURONS = 10\n",
    "lam = .001\n",
    "trainfrac = .6\n",
    "\n",
    "TRAIN_FRACTION = trainfrac\n",
    "CV_FRACTION = min(trainfrac, .2)\n",
    "TEST_FRACTION = .2\n",
    "\n",
    "X = d['X']\n",
    "np.random.seed(1234)\n",
    "np.random.shuffle(X)\n",
    "\n",
    "y = d['y']\n",
    "np.random.seed(1234)\n",
    "np.random.shuffle(y)\n",
    "\n",
    "X_train = X[0:int(np.floor(X.shape[0] * TRAIN_FRACTION)),:]\n",
    "y_train = y[0:int(np.floor(y.shape[0] * TRAIN_FRACTION)),:]\n",
    "\n",
    "X_cv = X[int(np.floor(X.shape[0] * TRAIN_FRACTION)):int(np.floor(X.shape[0] * (TRAIN_FRACTION + CV_FRACTION))),:]\n",
    "y_cv = y[int(np.floor(X.shape[0] * TRAIN_FRACTION)):int(np.floor(X.shape[0] * (TRAIN_FRACTION + CV_FRACTION))),:]\n",
    "\n",
    "X_test = X[int(np.floor(X.shape[0] * (TRAIN_FRACTION + CV_FRACTION))):,:]\n",
    "y_test = y[int(np.floor(X.shape[0] * (TRAIN_FRACTION + CV_FRACTION))):,:]\n",
    "\n",
    "\n",
    "params = (INPUT_NEURONS, HIDDEN_NEURONS, OUTPUT_NEURONS, X_train, y_train, lam)\n",
    "(r1, err_train) = train_and_eval(params, INPUT_NEURONS, HIDDEN_NEURONS, OUTPUT_NEURONS, 50)"
   ]
  },
  {
   "cell_type": "code",
   "execution_count": 21,
   "metadata": {
    "collapsed": false
   },
   "outputs": [
    {
     "name": "stdout",
     "output_type": "stream",
     "text": [
      "Training error: 0.23333333333333328\n"
     ]
    }
   ],
   "source": [
    "theta_out = r1['x']\n",
    "split_indx = HIDDEN_NEURONS * (INPUT_NEURONS + 1);\n",
    "Theta1 = np.reshape(theta_out[0:split_indx], [HIDDEN_NEURONS, INPUT_NEURONS + 1])\n",
    "Theta2 = np.reshape(theta_out[split_indx:] , [OUTPUT_NEURONS, HIDDEN_NEURONS + 1] )\n",
    "\n",
    "preds_train = predict(Theta1, Theta2, X_train) + 1\n",
    "correct = 0;\n",
    "total = len(y_train);\n",
    "for k in range(0,len(y_train)):\n",
    "    predic = preds_train[k]\n",
    "    acts = y_train[k]\n",
    "    if predic == acts:\n",
    "        correct += 1\n",
    "err_train = 1 - correct/total\n",
    "\n",
    "print(\"Training error: \" + str(err_train))"
   ]
  },
  {
   "cell_type": "code",
   "execution_count": 380,
   "metadata": {
    "collapsed": false
   },
   "outputs": [
    {
     "data": {
      "text/plain": [
       "     fun: 0.20928462080668134\n",
       "     jac: array([ -4.96692824e-04,   2.32491304e-08,  -3.85841739e-08, ...,\n",
       "         3.76104461e-04,   4.95604971e-04,  -6.30428498e-05])\n",
       " message: 'Maximum number of iterations has been exceeded.'\n",
       "    nfev: 115\n",
       "     nit: 50\n",
       "    njev: 115\n",
       "  status: 1\n",
       " success: False\n",
       "       x: array([-0.4243605 ,  0.06974739, -0.11575252, ..., -1.33263751,\n",
       "       -3.98387444, -0.80687247])"
      ]
     },
     "execution_count": 380,
     "metadata": {},
     "output_type": "execute_result"
    }
   ],
   "source": []
  },
  {
   "cell_type": "code",
   "execution_count": null,
   "metadata": {
    "collapsed": true
   },
   "outputs": [],
   "source": []
  }
 ],
 "metadata": {
  "kernelspec": {
   "display_name": "Python 3",
   "language": "python",
   "name": "python3"
  },
  "language_info": {
   "codemirror_mode": {
    "name": "ipython",
    "version": 3
   },
   "file_extension": ".py",
   "mimetype": "text/x-python",
   "name": "python",
   "nbconvert_exporter": "python",
   "pygments_lexer": "ipython3",
   "version": "3.4.3"
  }
 },
 "nbformat": 4,
 "nbformat_minor": 1
}
