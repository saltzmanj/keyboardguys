{
 "cells": [
  {
   "cell_type": "code",
   "execution_count": null,
   "metadata": {
    "collapsed": true
   },
   "outputs": [],
   "source": [
    "# Get the data from the server. Run this only once\n",
    "!curl http://grfia.dlsi.ua.es/homus/HOMUS.zip > HOMUS.zip"
   ]
  },
  {
   "cell_type": "code",
   "execution_count": 84,
   "metadata": {
    "collapsed": true
   },
   "outputs": [
    {
     "name": "stdout",
     "output_type": "stream",
     "text": [
      "Collecting matplotlib\n",
      "  Downloading matplotlib-1.5.2-cp34-cp34m-macosx_10_6_intel.macosx_10_9_intel.macosx_10_9_x86_64.macosx_10_10_intel.macosx_10_10_x86_64.whl (11.2MB)\n",
      "\u001b[K    100% |████████████████████████████████| 11.2MB 115kB/s \n",
      "\u001b[?25hRequirement already satisfied (use --upgrade to upgrade): numpy>=1.6 in /usr/local/lib/python3.4/site-packages (from matplotlib)\n",
      "Requirement already satisfied (use --upgrade to upgrade): pytz in /usr/local/lib/python3.4/site-packages (from matplotlib)\n",
      "Collecting cycler (from matplotlib)\n",
      "  Downloading cycler-0.10.0-py2.py3-none-any.whl\n",
      "Requirement already satisfied (use --upgrade to upgrade): python-dateutil in /usr/local/lib/python3.4/site-packages (from matplotlib)\n",
      "Collecting pyparsing!=2.0.0,!=2.0.4,!=2.1.2,>=1.5.6 (from matplotlib)\n",
      "  Downloading pyparsing-2.1.8-py2.py3-none-any.whl (54kB)\n",
      "\u001b[K    100% |████████████████████████████████| 61kB 7.2MB/s \n",
      "\u001b[?25hRequirement already satisfied (use --upgrade to upgrade): six in /usr/local/lib/python3.4/site-packages (from cycler->matplotlib)\n",
      "Installing collected packages: cycler, pyparsing, matplotlib\n",
      "Successfully installed cycler-0.10.0 matplotlib-1.5.2 pyparsing-2.1.8\n"
     ]
    }
   ],
   "source": [
    "# Use this cell for shell commands, if necessary\n",
    "!pip3 install matplotlib"
   ]
  },
  {
   "cell_type": "code",
   "execution_count": 68,
   "metadata": {
    "collapsed": false
   },
   "outputs": [],
   "source": [
    "%matplotlib inline\n",
    "import os\n",
    "import pandas as pd\n",
    "import sys\n",
    "import matplotlib.pyplot as plt\n",
    "import matplotlib.image as mpimg\n",
    "import matplotlib.patches as mpatches\n",
    "import numpy as np\n",
    "from skimage.draw import line\n",
    "from skimage.measure import label, regionprops\n",
    "from skimage.color import label2rgb"
   ]
  },
  {
   "cell_type": "code",
   "execution_count": 2,
   "metadata": {
    "collapsed": true
   },
   "outputs": [],
   "source": [
    "BLK_COLOR = 0\n",
    "WHT_COLOR = 255"
   ]
  },
  {
   "cell_type": "code",
   "execution_count": 150,
   "metadata": {
    "collapsed": false
   },
   "outputs": [],
   "source": [
    "def process_file(fileobj, exid):\n",
    "    X = None\n",
    "    y = None\n",
    "    \n",
    "    # The first line of the file is the note-type\n",
    "    notetype = fileobj.readline()\n",
    "    y = notetype.rstrip(\"\\n\")\n",
    "#     print(y)\n",
    "\n",
    "    # The rest of the lines are semi-colon separated point tuples, e.g. 5,6;1,5;8;9 etc.\n",
    "    xstring = \"\"\n",
    "    df = pd.DataFrame(columns = [\"x1\", \"x2\", \"stroke\"])\n",
    "    stroke = 1;\n",
    "    x1list = [];\n",
    "    x2list = [];\n",
    "    strklist = [];\n",
    "    stroke = 1;\n",
    "    for line in fileobj:\n",
    "        \n",
    "#     print(xstring)\n",
    "        \n",
    "        # Split the string based on the semicolon\n",
    "        points_partition = line.strip().strip(\";\").split(\";\")\n",
    "\n",
    "        # Split the string based on the commas\n",
    "        # The result is a doubly nested list, e.g. [['5','6'], ['1', '5'], ['8', '9'] ... ] etc\n",
    "        points_split = [item.split(\",\") for item in points_partition]\n",
    "\n",
    "        # Convert strings to ints. TODO: Make this a list comprehension instead of a for loop.\n",
    "        for tup in points_split:\n",
    "            x1list.append(int(tup[0]))\n",
    "            x2list.append(int(tup[1]))\n",
    "            strklist.append(stroke)\n",
    "        \n",
    "        stroke += 1\n",
    "    # Create a DataFrame from the result\n",
    "    df['x1'] = x1list\n",
    "    df['x2'] = x2list\n",
    "    df['stroke'] = strklist\n",
    "    df['id'] = exid\n",
    "    df['y'] = y\n",
    "    \n",
    "    return df"
   ]
  },
  {
   "cell_type": "code",
   "execution_count": 151,
   "metadata": {
    "collapsed": false,
    "scrolled": true
   },
   "outputs": [
    {
     "name": "stdout",
     "output_type": "stream",
     "text": [
      "Working on 1\n",
      "Working on 2\n",
      "Working on 3\n",
      "Working on 4\n",
      "Working on 5\n",
      "Working on 6\n",
      "Working on 7\n",
      "Working on 8\n",
      "Working on 9\n",
      "Working on 10\n",
      "Working on 11\n",
      "Working on 12\n",
      "Working on 13\n",
      "Working on 14\n",
      "Working on 15\n",
      "Working on 16\n",
      "Working on 17\n",
      "Working on 18\n",
      "Working on 19\n",
      "Working on 20\n",
      "Working on 21\n",
      "Working on 22\n",
      "Working on 23\n",
      "Working on 24\n",
      "Working on 25\n",
      "Working on 26\n",
      "Working on 27\n",
      "Working on 28\n",
      "Working on 29\n",
      "Working on 30\n",
      "Working on 31\n",
      "Working on 32\n",
      "Working on 33\n",
      "Working on 34\n",
      "Working on 35\n",
      "Working on 36\n",
      "Working on 37\n",
      "Working on 38\n",
      "Working on 39\n",
      "Working on 40\n",
      "Working on 41\n",
      "Working on 42\n",
      "Working on 43\n",
      "Working on 44\n",
      "Working on 45\n",
      "Working on 46\n",
      "Working on 47\n",
      "Working on 48\n",
      "Working on 49\n",
      "Working on 50\n",
      "Working on 51\n",
      "Working on 52\n",
      "Working on 53\n",
      "Working on 54\n",
      "Working on 55\n",
      "Working on 56\n",
      "Working on 57\n",
      "Working on 58\n",
      "Working on 59\n",
      "Working on 60\n",
      "Working on 61\n",
      "Working on 62\n",
      "Working on 63\n",
      "Working on 64\n",
      "Working on 65\n",
      "Working on 66\n",
      "Working on 67\n",
      "Working on 68\n",
      "Working on 69\n",
      "Working on 70\n",
      "Working on 71\n",
      "Working on 72\n",
      "Working on 73\n",
      "Working on 74\n",
      "Working on 75\n",
      "Working on 76\n",
      "Working on 77\n",
      "Working on 78\n",
      "Working on 79\n",
      "Working on 80\n",
      "Working on 81\n",
      "Working on 82\n",
      "Working on 83\n",
      "Working on 84\n",
      "Working on 85\n",
      "Working on 86\n",
      "Working on 87\n",
      "Working on 88\n",
      "Working on 89\n",
      "Working on 90\n",
      "Working on 91\n",
      "Working on 92\n",
      "Working on 93\n",
      "Working on 94\n",
      "Working on 95\n",
      "Working on 96\n",
      "Working on 97\n",
      "Working on 98\n",
      "Working on 99\n",
      "Working on 100\n",
      "Working on 101\n"
     ]
    }
   ],
   "source": [
    "INDIR = \"../../HOMUS\"\n",
    "\n",
    "CAPCOUNT = float(\"inf\") # <---- Change this to a set number for testing; to do everything set this high\n",
    "capflag = False\n",
    "\n",
    "# Each file will return a DataFrame; store these all in a list\n",
    "allcoordslist = [] \n",
    "\n",
    "# this will be used as a progress indicator\n",
    "count = 1;\n",
    "\n",
    "for root, dirs, filenames in os.walk(INDIR):\n",
    "    print(\"Working on \" + str(count))\n",
    "    count += 1\n",
    "    \n",
    "    for counter, f in enumerate(filenames):\n",
    "        if counter > CAPCOUNT:\n",
    "            capflag = True\n",
    "            break\n",
    "        else:\n",
    "            fileobj = open(os.path.join(root, f), 'r')\n",
    "            readresults = process_file(fileobj, f[:-4]) # Provide the filename (w/o '.txt') as a unique identifier\n",
    "            fileobj.close()\n",
    "            allcoordslist.append(readresults)\n",
    "    if capflag:\n",
    "        break\n",
    "\n",
    "# Concatenate the list of DataFrames into one large dataframe. This is much, much, much, much more efficient\n",
    "#     than doing this in the loop body.\n",
    "allcoords = pd.concat(allcoordslist)"
   ]
  },
  {
   "cell_type": "code",
   "execution_count": 152,
   "metadata": {
    "collapsed": false
   },
   "outputs": [],
   "source": [
    "# Save the DataFrame to a CSV, just in case something terrible happens.\n",
    "\n",
    "# If the notebook is in a git repository, DON'T RUN THIS!\n",
    "\n",
    "allcoords.to_csv(\"../../homus_all.csv\")"
   ]
  },
  {
   "cell_type": "code",
   "execution_count": 11,
   "metadata": {
    "collapsed": true
   },
   "outputs": [],
   "source": [
    "allcoords = pd.read_csv('../../homus_all.csv',index_col=0)"
   ]
  },
  {
   "cell_type": "code",
   "execution_count": 157,
   "metadata": {
    "collapsed": false
   },
   "outputs": [],
   "source": [
    "def round_to(x, nearest = 50):\n",
    "    return int(nearest * round(float(x)/nearest))\n",
    "\n",
    "# Get the dimension of the image based on the max of the tuples. Note that some files have negative coordinates, so \n",
    "x1_dim = round_to(max(allcoords['x1']) + abs(min(allcoords['x1'])), 25)\n",
    "x2_dim = round_to(max(allcoords['x2']) + abs(min(allcoords['x2'])), 25)\n",
    "xdims = [x1_dim, x2_dim]\n",
    "# Add the negative offsets\n",
    "# Note coordinate index starts at 0\n",
    "allcoords['x1f'] = allcoords['x1'] + abs(min(allcoords['x1'])) \n",
    "allcoords['x2f'] = allcoords['x2'] + abs(min(allcoords['x2']))"
   ]
  },
  {
   "cell_type": "code",
   "execution_count": 158,
   "metadata": {
    "collapsed": false
   },
   "outputs": [],
   "source": [
    "def multiassignmentlist(ndarray_in, indexlist, value = 1):\n",
    "    for l in indexlist:\n",
    "        ndarray_in[(l[0],l[1])] = value\n",
    "    return ndarray_in"
   ]
  },
  {
   "cell_type": "code",
   "execution_count": 165,
   "metadata": {
    "collapsed": false
   },
   "outputs": [],
   "source": [
    "def gen_feature_matrix(df_in, uniqueid, dims, idfieldname = 'id', keylist = ['x1f','x2f', 'stroke'], interpolate = True):\n",
    "    for key in keylist:\n",
    "        if key not in df_in.keys():\n",
    "            raise KeyError(\"Could not find column name '\" + str(key) + \"' in input DataFrame\")\n",
    "            \n",
    "    if uniqueid not in df_in[idfieldname].unique():\n",
    "        raise KeyError(str(uniqueid) + \" is not a member of column '\" + str(idfieldname) +\"'\")\n",
    "        \n",
    "    if idfieldname not in df_in.keys():\n",
    "        raise KeyError(\"Could not find column name '\" + str(idfieldname) + \"' in input DataFrame\")\n",
    "        \n",
    "    dfsubset = df_in[df_in[idfieldname] == uniqueid] # Get the note's data\n",
    "    \n",
    "    x1 = dfsubset[keylist[0]]\n",
    "    x2 = dfsubset[keylist[1]]\n",
    "    strk = dfsubset[keylist[2]]\n",
    "    # Converts dataframe columns to a list of points\n",
    "    indexlist = [[x2[j], x1[j]] for j in range(0,len(x1))]\n",
    "    \n",
    "    # Initialize the output array\n",
    "    outputX = np.ones((dims[0], dims[1])) * WHT_COLOR\n",
    "#     print(indexlist[1:5])\n",
    "\n",
    "    # If interpolation is enabled, draw a \"line\" between each sequential pair of points\n",
    "    if interpolate:\n",
    "        for k in range(1,len(indexlist) - 2):\n",
    "            if strk[k] != strk[k+1]:\n",
    "                continue\n",
    "            pt1 = indexlist[k]\n",
    "            pt2 = indexlist[k+1]\n",
    "            \n",
    "            # Use SciKit Image's line drawing function\n",
    "            rr, cc = line(pt1[0], pt1[1], pt2[0], pt2[1])\n",
    "            \n",
    "            outputX[rr,cc] = BLK_COLOR\n",
    "    else:        \n",
    "        outputX = multiassignmentlist(outputX, indexlist, BLK_COLOR)\n",
    "    return outputX"
   ]
  },
  {
   "cell_type": "code",
   "execution_count": 166,
   "metadata": {
    "collapsed": false
   },
   "outputs": [],
   "source": [
    "def plot_image(uniqueid, coords, xdims, dfkeys = ['id','y'], interpolate = True):\n",
    "    f = gen_feature_matrix(coords, uniqueid, xdims, interpolate = interpolate)\n",
    "    \n",
    "    dfsubset = coords[coords[dfkeys[0]] == uniqueid]\n",
    "    \n",
    "    buffer_pixels = 10\n",
    "    \n",
    "    x1min = min(dfsubset['x1f']) - buffer_pixels\n",
    "    x1max = max(dfsubset['x1f']) + buffer_pixels\n",
    "    \n",
    "    x2min = min(dfsubset['x2f']) - buffer_pixels\n",
    "    x2max = max(dfsubset['x2f']) + buffer_pixels\n",
    "    \n",
    "    \n",
    "    t1 = dfsubset[dfkeys[0]].unique()\n",
    "    t2 = dfsubset[dfkeys[1]].unique()\n",
    "    tstring = str(t1) + \" : \" + str(t2)\n",
    "    \n",
    "    fig, ax = plt.subplots(ncols=1, nrows=1, figsize=(6, 6))\n",
    "    fig.suptitle(tstring)\n",
    "    rect = mpatches.Rectangle((x1min, x2min),  x1max - x1min, x2max - x2min,\n",
    "                              fill=False, edgecolor='red', linewidth=2)\n",
    "    ax.add_patch(rect)\n",
    "    ax.imshow(f, cmap='Greys_r')\n",
    "    "
   ]
  },
  {
   "cell_type": "code",
   "execution_count": 199,
   "metadata": {
    "collapsed": false
   },
   "outputs": [
    {
     "data": {
      "image/png": "[encoded data removed]",
      "text/plain": [
       "<matplotlib.figure.Figure at 0x1425b2cc0>"
      ]
     },
     "metadata": {},
     "output_type": "display_data"
    }
   ],
   "source": [
    "xdims = [x1_dim, x2_dim]\n",
    "plot_image('1-116', allcoords, xdims, interpolate = True)"
   ]
  },
  {
   "cell_type": "code",
   "execution_count": 192,
   "metadata": {
    "collapsed": false
   },
   "outputs": [
    {
     "ename": "SyntaxError",
     "evalue": "invalid syntax (<ipython-input-192-9bdd9b238ffd>, line 1)",
     "output_type": "error",
     "traceback": [
      "\u001b[0;36m  File \u001b[0;32m\"<ipython-input-192-9bdd9b238ffd>\"\u001b[0;36m, line \u001b[0;32m1\u001b[0m\n\u001b[0;31m    twonotes = allcoords[allcoords['y'] == ('Quarter-Note' || 'Half-Note')]\u001b[0m\n\u001b[0m                                                            ^\u001b[0m\n\u001b[0;31mSyntaxError\u001b[0m\u001b[0;31m:\u001b[0m invalid syntax\n"
     ]
    }
   ],
   "source": [
    "twonotes = allcoords[allcoords['y'] == ('Quarter-Note' || 'Half-Note')]"
   ]
  },
  {
   "cell_type": "code",
   "execution_count": null,
   "metadata": {
    "collapsed": true
   },
   "outputs": [],
   "source": []
  }
 ],
 "metadata": {
  "kernelspec": {
   "display_name": "Python 3",
   "language": "python",
   "name": "python3"
  },
  "language_info": {
   "codemirror_mode": {
    "name": "ipython",
    "version": 3
   },
   "file_extension": ".py",
   "mimetype": "text/x-python",
   "name": "python",
   "nbconvert_exporter": "python",
   "pygments_lexer": "ipython3",
   "version": "3.4.3"
  }
 },
 "nbformat": 4,
 "nbformat_minor": 1
}
