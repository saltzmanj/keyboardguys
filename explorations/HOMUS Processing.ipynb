{
 "cells": [
  {
   "cell_type": "code",
   "execution_count": null,
   "metadata": {
    "collapsed": true
   },
   "outputs": [],
   "source": [
    "# Get the data from the server. Run this once\n",
    "!curl http://grfia.dlsi.ua.es/homus/HOMUS.zip > HOMUS.zip"
   ]
  },
  {
   "cell_type": "code",
   "execution_count": null,
   "metadata": {
    "collapsed": true
   },
   "outputs": [],
   "source": [
    "# Use this cell for shell commands, if necessary"
   ]
  },
  {
   "cell_type": "code",
   "execution_count": 92,
   "metadata": {
    "collapsed": false
   },
   "outputs": [],
   "source": [
    "import os\n",
    "import pandas as pd\n",
    "import sys\n",
    "from skimage import data, io, filters"
   ]
  },
  {
   "cell_type": "code",
   "execution_count": 54,
   "metadata": {
    "collapsed": false
   },
   "outputs": [],
   "source": [
    "def process_file(fileobj, exid):\n",
    "    X = None\n",
    "    y = None\n",
    "    \n",
    "    # The first line of the file is the note-type\n",
    "    notetype = fileobj.readline()\n",
    "    y = notetype.rstrip(\"\\n\")\n",
    "#     print(y)\n",
    "\n",
    "    # The rest of the lines are semi-colon separated point tuples, e.g. 5,6;1,5;8;9 etc.\n",
    "    xstring = \"\"\n",
    "    \n",
    "    for line in fileobj:\n",
    "        xstring += line.rstrip()\n",
    "#     print(xstring)\n",
    "\n",
    "    # Split the string based on the semicolon\n",
    "    points_partition = xstring.strip(\";\").split(\";\")\n",
    "    \n",
    "    # Split the string based on the commas\n",
    "    # The result is a doubly nested list, e.g. [['5','6'], ['1', '5'], ['8', '9'] ... ] etc\n",
    "    points_split = [item.split(\",\") for item in points_partition]\n",
    "    \n",
    "    # Convert strings to ints. TODO: Make this a list comprehension instead of a for loop.\n",
    "    for tup in points_split:\n",
    "        tup[0] = int(tup[0])\n",
    "        tup[1] = int(tup[1])\n",
    "\n",
    "\n",
    "    # Create a DataFrame from the result\n",
    "    df = pd.DataFrame(points_split, columns = [\"x1\", \"x2\"])\n",
    "    df['id'] = exid\n",
    "    df['y'] = y\n",
    "    return df"
   ]
  },
  {
   "cell_type": "code",
   "execution_count": 78,
   "metadata": {
    "collapsed": true
   },
   "outputs": [
    {
     "name": "stdout",
     "output_type": "stream",
     "text": [
      "Working on 1\n",
      "Working on 2\n",
      "Working on 3\n",
      "Working on 4\n",
      "Working on 5\n",
      "Working on 6\n",
      "Working on 7\n",
      "Working on 8\n",
      "Working on 9\n",
      "Working on 10\n",
      "Working on 11\n",
      "Working on 12\n",
      "Working on 13\n",
      "Working on 14\n",
      "Working on 15\n",
      "Working on 16\n",
      "Working on 17\n",
      "Working on 18\n",
      "Working on 19\n",
      "Working on 20\n",
      "Working on 21\n",
      "Working on 22\n",
      "Working on 23\n",
      "Working on 24\n",
      "Working on 25\n",
      "Working on 26\n",
      "Working on 27\n",
      "Working on 28\n",
      "Working on 29\n",
      "Working on 30\n",
      "Working on 31\n",
      "Working on 32\n",
      "Working on 33\n",
      "Working on 34\n",
      "Working on 35\n",
      "Working on 36\n",
      "Working on 37\n",
      "Working on 38\n",
      "Working on 39\n",
      "Working on 40\n",
      "Working on 41\n",
      "Working on 42\n",
      "Working on 43\n",
      "Working on 44\n",
      "Working on 45\n",
      "Working on 46\n",
      "Working on 47\n",
      "Working on 48\n",
      "Working on 49\n",
      "Working on 50\n",
      "Working on 51\n",
      "Working on 52\n",
      "Working on 53\n",
      "Working on 54\n",
      "Working on 55\n",
      "Working on 56\n",
      "Working on 57\n",
      "Working on 58\n",
      "Working on 59\n",
      "Working on 60\n",
      "Working on 61\n",
      "Working on 62\n",
      "Working on 63\n",
      "Working on 64\n",
      "Working on 65\n",
      "Working on 66\n",
      "Working on 67\n",
      "Working on 68\n",
      "Working on 69\n",
      "Working on 70\n",
      "Working on 71\n",
      "Working on 72\n",
      "Working on 73\n",
      "Working on 74\n",
      "Working on 75\n",
      "Working on 76\n",
      "Working on 77\n",
      "Working on 78\n",
      "Working on 79\n",
      "Working on 80\n",
      "Working on 81\n",
      "Working on 82\n",
      "Working on 83\n",
      "Working on 84\n",
      "Working on 85\n",
      "Working on 86\n",
      "Working on 87\n",
      "Working on 88\n",
      "Working on 89\n",
      "Working on 90\n",
      "Working on 91\n",
      "Working on 92\n",
      "Working on 93\n",
      "Working on 94\n",
      "Working on 95\n",
      "Working on 96\n",
      "Working on 97\n",
      "Working on 98\n",
      "Working on 99\n",
      "Working on 100\n",
      "Working on 101\n"
     ]
    }
   ],
   "source": [
    "INDIR = \"./HOMUS\"\n",
    "\n",
    "CAPCOUNT = float(\"inf\") # <---- Change this to a set number for testing; to do everything set this high\n",
    "capflag = False\n",
    "\n",
    "# Each file will return a DataFrame; store these all in a list\n",
    "allcoordslist = [] \n",
    "\n",
    "# this will be used as a progress indicator\n",
    "count = 1;\n",
    "\n",
    "for root, dirs, filenames in os.walk(INDIR):\n",
    "    print(\"Working on \" + str(count))\n",
    "    count += 1\n",
    "    \n",
    "    for counter, f in enumerate(filenames):\n",
    "        if counter > CAPCOUNT:\n",
    "            capflag = True\n",
    "            break\n",
    "        else:\n",
    "            fileobj = open(os.path.join(root, f), 'r')\n",
    "            readresults = process_file(fileobj, f[:-4]) # Provide the filename (w/o '.txt') as a unique identifier\n",
    "            fileobj.close()\n",
    "            allcoordslist.append(readresults)\n",
    "    if capflag:\n",
    "        break\n",
    "\n",
    "# Concatenate the list of DataFrames into one large dataframe. This is much, much, much, much more efficient\n",
    "#     than doing this is the list body.\n",
    "allcoords = pd.concat(allcoordslist)"
   ]
  },
  {
   "cell_type": "code",
   "execution_count": 81,
   "metadata": {
    "collapsed": false
   },
   "outputs": [],
   "source": [
    "# Save the DataFrame to a CSV, just in case something terrible happens.\n",
    "allcoords.to_csv(\"homus_all.csv\")"
   ]
  },
  {
   "cell_type": "code",
   "execution_count": 105,
   "metadata": {
    "collapsed": false
   },
   "outputs": [],
   "source": [
    "def round_to(x, nearest = 50):\n",
    "    return int(nearest * round(float(x)/nearest))\n",
    "\n",
    "# Get the dimension of the image based on the max of the tuples. Note that some files have negative coordinates, so \n",
    "x1_dim = round_to(max(allcoords['x1']) + abs(min(allcoords['x1'])), 25)\n",
    "x2_dim = round_to(max(allcoords['x2']) + abs(min(allcoords['x2'])), 25)\n",
    "                  \n",
    "allcoords['x1f'] = allcoords['x1'] + abs(min(allcoords['x1'])) \n",
    "allcoords['x2f'] = allcoords['x2'] + abs(min(allcoords['x2']))"
   ]
  },
  {
   "cell_type": "code",
   "execution_count": 112,
   "metadata": {
    "collapsed": true
   },
   "outputs": [],
   "source": [
    "allcoords.to_csv(\"homus_all.csv\")"
   ]
  },
  {
   "cell_type": "code",
   "execution_count": 94,
   "metadata": {
    "collapsed": false
   },
   "outputs": [
    {
     "data": {
      "text/plain": [
       "array([[ 47, 123, 133, ...,  14,   3,  12],\n",
       "       [ 93, 144, 145, ...,  12,   7,   7],\n",
       "       [126, 147, 143, ...,   2,  13,   3],\n",
       "       ..., \n",
       "       [ 81,  79,  74, ...,   6,   4,   7],\n",
       "       [ 88,  82,  74, ...,   5,   7,   8],\n",
       "       [ 91,  79,  68, ...,   4,  10,   7]], dtype=uint8)"
      ]
     },
     "execution_count": 94,
     "metadata": {},
     "output_type": "execute_result"
    }
   ],
   "source": [
    "def gen_pixel_array(df_in):\n",
    "    "
   ]
  },
  {
   "cell_type": "code",
   "execution_count": null,
   "metadata": {
    "collapsed": true
   },
   "outputs": [],
   "source": []
  }
 ],
 "metadata": {
  "kernelspec": {
   "display_name": "Python 3",
   "language": "python",
   "name": "python3"
  },
  "language_info": {
   "codemirror_mode": {
    "name": "ipython",
    "version": 3
   },
   "file_extension": ".py",
   "mimetype": "text/x-python",
   "name": "python",
   "nbconvert_exporter": "python",
   "pygments_lexer": "ipython3",
   "version": "3.4.3"
  }
 },
 "nbformat": 4,
 "nbformat_minor": 1
}
