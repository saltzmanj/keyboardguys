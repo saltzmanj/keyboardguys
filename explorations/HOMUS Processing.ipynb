{
 "cells": [
  {
   "cell_type": "code",
   "execution_count": null,
   "metadata": {
    "collapsed": true
   },
   "outputs": [],
   "source": [
    "# Get the data from the server. Run this only once\n",
    "!curl http://grfia.dlsi.ua.es/homus/HOMUS.zip > HOMUS.zip"
   ]
  },
  {
   "cell_type": "code",
   "execution_count": 329,
   "metadata": {
    "collapsed": true
   },
   "outputs": [
    {
     "name": "stdout",
     "output_type": "stream",
     "text": [
      "Collecting pybrain\n",
      "  Downloading PyBrain-0.3.tar.gz (262kB)\n",
      "\u001b[K    100% |████████████████████████████████| 266kB 3.2MB/s \n",
      "\u001b[?25hInstalling collected packages: pybrain\n",
      "  Running setup.py install for pybrain ... \u001b[?25l-\b \b\\\b \b|\b \b/\b \b-\b \b\\\b \b|\b \bdone\n",
      "\u001b[?25hSuccessfully installed pybrain-0.3\n"
     ]
    }
   ],
   "source": [
    "# Use this cell for shell commands, if necessary\n",
    "!pip3 install pybrain"
   ]
  },
  {
   "cell_type": "code",
   "execution_count": 440,
   "metadata": {
    "collapsed": false
   },
   "outputs": [],
   "source": [
    "%matplotlib inline\n",
    "import os\n",
    "import pandas as pd\n",
    "import sys\n",
    "import matplotlib.pyplot as plt\n",
    "import matplotlib.image as mpimg\n",
    "import matplotlib.patches as mpatches\n",
    "import numpy as np\n",
    "from skimage.draw import line\n",
    "from skimage.measure import label, regionprops\n",
    "from skimage.color import label2rgb\n",
    "import skimage.transform as skt\n",
    "import scipy.io\n",
    "np.random.seed(1337)"
   ]
  },
  {
   "cell_type": "code",
   "execution_count": 2,
   "metadata": {
    "collapsed": true
   },
   "outputs": [],
   "source": [
    "BLK_COLOR = 0\n",
    "WHT_COLOR = 255"
   ]
  },
  {
   "cell_type": "code",
   "execution_count": 150,
   "metadata": {
    "collapsed": false
   },
   "outputs": [],
   "source": [
    "def process_file(fileobj, exid):\n",
    "    X = None\n",
    "    y = None\n",
    "    \n",
    "    # The first line of the file is the note-type\n",
    "    notetype = fileobj.readline()\n",
    "    y = notetype.rstrip(\"\\n\")\n",
    "#     print(y)\n",
    "\n",
    "    # The rest of the lines are semi-colon separated point tuples, e.g. 5,6;1,5;8;9 etc.\n",
    "    xstring = \"\"\n",
    "    df = pd.DataFrame(columns = [\"x1\", \"x2\", \"stroke\"])\n",
    "    stroke = 1;\n",
    "    x1list = [];\n",
    "    x2list = [];\n",
    "    strklist = [];\n",
    "    stroke = 1;\n",
    "    for line in fileobj:\n",
    "        \n",
    "#     print(xstring)\n",
    "        \n",
    "        # Split the string based on the semicolon\n",
    "        points_partition = line.strip().strip(\";\").split(\";\")\n",
    "\n",
    "        # Split the string based on the commas\n",
    "        # The result is a doubly nested list, e.g. [['5','6'], ['1', '5'], ['8', '9'] ... ] etc\n",
    "        points_split = [item.split(\",\") for item in points_partition]\n",
    "\n",
    "        # Convert strings to ints. TODO: Make this a list comprehension instead of a for loop.\n",
    "        for tup in points_split:\n",
    "            x1list.append(int(tup[0]))\n",
    "            x2list.append(int(tup[1]))\n",
    "            strklist.append(stroke)\n",
    "        \n",
    "        stroke += 1\n",
    "    # Create a DataFrame from the result\n",
    "    df['x1'] = x1list\n",
    "    df['x2'] = x2list\n",
    "    df['stroke'] = strklist\n",
    "    df['id'] = exid\n",
    "    df['y'] = y\n",
    "    \n",
    "    return df"
   ]
  },
  {
   "cell_type": "code",
   "execution_count": 435,
   "metadata": {
    "collapsed": false,
    "scrolled": true
   },
   "outputs": [
    {
     "name": "stdout",
     "output_type": "stream",
     "text": [
      "Working on 1\n",
      "Working on 2\n",
      "Working on 3\n",
      "Working on 4\n",
      "Working on 5\n",
      "Working on 6\n",
      "Working on 7\n",
      "Working on 8\n",
      "Working on 9\n",
      "Working on 10\n",
      "Working on 11\n",
      "Working on 12\n",
      "Working on 13\n",
      "Working on 14\n",
      "Working on 15\n",
      "Working on 16\n",
      "Working on 17\n",
      "Working on 18\n",
      "Working on 19\n",
      "Working on 20\n",
      "Working on 21\n",
      "Working on 22\n",
      "Working on 23\n",
      "Working on 24\n",
      "Working on 25\n",
      "Working on 26\n",
      "Working on 27\n",
      "Working on 28\n",
      "Working on 29\n",
      "Working on 30\n",
      "Working on 31\n",
      "Working on 32\n",
      "Working on 33\n",
      "Working on 34\n",
      "Working on 35\n",
      "Working on 36\n",
      "Working on 37\n",
      "Working on 38\n",
      "Working on 39\n",
      "Working on 40\n",
      "Working on 41\n",
      "Working on 42\n",
      "Working on 43\n",
      "Working on 44\n",
      "Working on 45\n",
      "Working on 46\n",
      "Working on 47\n",
      "Working on 48\n",
      "Working on 49\n",
      "Working on 50\n",
      "Working on 51\n",
      "Working on 52\n",
      "Working on 53\n",
      "Working on 54\n",
      "Working on 55\n",
      "Working on 56\n",
      "Working on 57\n",
      "Working on 58\n",
      "Working on 59\n",
      "Working on 60\n",
      "Working on 61\n",
      "Working on 62\n",
      "Working on 63\n",
      "Working on 64\n",
      "Working on 65\n",
      "Working on 66\n",
      "Working on 67\n",
      "Working on 68\n",
      "Working on 69\n",
      "Working on 70\n",
      "Working on 71\n",
      "Working on 72\n",
      "Working on 73\n",
      "Working on 74\n",
      "Working on 75\n",
      "Working on 76\n",
      "Working on 77\n",
      "Working on 78\n",
      "Working on 79\n",
      "Working on 80\n",
      "Working on 81\n",
      "Working on 82\n",
      "Working on 83\n",
      "Working on 84\n",
      "Working on 85\n",
      "Working on 86\n",
      "Working on 87\n",
      "Working on 88\n",
      "Working on 89\n",
      "Working on 90\n",
      "Working on 91\n",
      "Working on 92\n",
      "Working on 93\n",
      "Working on 94\n",
      "Working on 95\n",
      "Working on 96\n",
      "Working on 97\n",
      "Working on 98\n",
      "Working on 99\n",
      "Working on 100\n",
      "Working on 101\n"
     ]
    }
   ],
   "source": [
    "INDIR = \"../../HOMUS\"\n",
    "\n",
    "CAPCOUNT = float(\"inf\") # <---- Change this to a set number for testing; to do everything set this high\n",
    "capflag = False\n",
    "\n",
    "# Each file will return a DataFrame; store these all in a list\n",
    "allcoordslist = [] \n",
    "\n",
    "# this will be used as a progress indicator\n",
    "count = 1;\n",
    "\n",
    "for root, dirs, filenames in os.walk(INDIR):\n",
    "    print(\"Working on \" + str(count))\n",
    "    count += 1\n",
    "    \n",
    "    for counter, f in enumerate(filenames):\n",
    "        if counter > CAPCOUNT:\n",
    "            capflag = True\n",
    "            break\n",
    "        else:\n",
    "            fileobj = open(os.path.join(root, f), 'r')\n",
    "            readresults = process_file(fileobj, f[:-4]) # Provide the filename (w/o '.txt') as a unique identifier\n",
    "            fileobj.close()\n",
    "            allcoordslist.append(readresults)\n",
    "    if capflag:\n",
    "        break\n",
    "\n",
    "# Concatenate the list of DataFrames into one large dataframe. This is much, much, much, much more efficient\n",
    "#     than doing this in the loop body.\n",
    "allcoords = pd.concat(allcoordslist, ignore_index=True)"
   ]
  },
  {
   "cell_type": "code",
   "execution_count": 438,
   "metadata": {
    "collapsed": false
   },
   "outputs": [],
   "source": [
    "def round_to(x, nearest = 50):\n",
    "    return int(nearest * round(float(x)/nearest))\n",
    "\n",
    "# Get the dimension of the image based on the max of the tuples. Note that some files have negative coordinates, so \n",
    "x1_dim = round_to(max(allcoords['x1']) + abs(min(allcoords['x1'])), 25)\n",
    "x2_dim = round_to(max(allcoords['x2']) + abs(min(allcoords['x2'])), 25)\n",
    "xdims = [x1_dim, x2_dim]\n",
    "# Add the negative offsets\n",
    "# Note coordinate index starts at 0\n",
    "allcoords['x1f'] = allcoords['x1'] + abs(min(allcoords['x1'])) \n",
    "allcoords['x2f'] = allcoords['x2'] + abs(min(allcoords['x2']))\n"
   ]
  },
  {
   "cell_type": "code",
   "execution_count": 439,
   "metadata": {
    "collapsed": false
   },
   "outputs": [],
   "source": [
    "allcoords.to_csv(\"../../homus_all_standardized.csv\")"
   ]
  },
  {
   "cell_type": "code",
   "execution_count": 158,
   "metadata": {
    "collapsed": false
   },
   "outputs": [],
   "source": [
    "def multiassignmentlist(ndarray_in, indexlist, value = 1):\n",
    "    for l in indexlist:\n",
    "        ndarray_in[(l[0],l[1])] = value\n",
    "    return ndarray_in"
   ]
  },
  {
   "cell_type": "code",
   "execution_count": 165,
   "metadata": {
    "collapsed": false
   },
   "outputs": [],
   "source": [
    "def gen_feature_matrix(df_in, uniqueid, dims, idfieldname = 'id', keylist = ['x1f','x2f', 'stroke'], interpolate = True):\n",
    "    for key in keylist:\n",
    "        if key not in df_in.keys():\n",
    "            raise KeyError(\"Could not find column name '\" + str(key) + \"' in input DataFrame\")\n",
    "            \n",
    "    if uniqueid not in df_in[idfieldname].unique():\n",
    "        raise KeyError(str(uniqueid) + \" is not a member of column '\" + str(idfieldname) +\"'\")\n",
    "        \n",
    "    if idfieldname not in df_in.keys():\n",
    "        raise KeyError(\"Could not find column name '\" + str(idfieldname) + \"' in input DataFrame\")\n",
    "        \n",
    "    dfsubset = df_in[df_in[idfieldname] == uniqueid] # Get the note's data\n",
    "    \n",
    "    x1 = dfsubset[keylist[0]]\n",
    "    x2 = dfsubset[keylist[1]]\n",
    "    strk = dfsubset[keylist[2]]\n",
    "    # Converts dataframe columns to a list of points\n",
    "    indexlist = [[x2[j], x1[j]] for j in range(0,len(x1))]\n",
    "    \n",
    "    # Initialize the output array\n",
    "    outputX = np.ones((dims[0], dims[1])) * WHT_COLOR\n",
    "#     print(indexlist[1:5])\n",
    "\n",
    "    # If interpolation is enabled, draw a \"line\" between each sequential pair of points\n",
    "    if interpolate:\n",
    "        for k in range(1,len(indexlist) - 2):\n",
    "            if strk[k] != strk[k+1]:\n",
    "                continue\n",
    "            pt1 = indexlist[k]\n",
    "            pt2 = indexlist[k+1]\n",
    "            \n",
    "            # Use SciKit Image's line drawing function\n",
    "            rr, cc = line(pt1[0], pt1[1], pt2[0], pt2[1])\n",
    "            \n",
    "            outputX[rr,cc] = BLK_COLOR\n",
    "    else:        \n",
    "        outputX = multiassignmentlist(outputX, indexlist, BLK_COLOR)\n",
    "    return outputX"
   ]
  },
  {
   "cell_type": "code",
   "execution_count": 275,
   "metadata": {
    "collapsed": false
   },
   "outputs": [],
   "source": [
    "def plot_image(uniqueid, coords, xdims, dfkeys = ['id','y'], interpolate = True):\n",
    "    f = gen_feature_matrix(coords, uniqueid, xdims, interpolate = interpolate)\n",
    "    \n",
    "    dfsubset = coords[coords[dfkeys[0]] == uniqueid]\n",
    "    \n",
    "    buffer_pixels = 10\n",
    "    \n",
    "    x1min = min(dfsubset['x1f']) - buffer_pixels\n",
    "    x1max = max(dfsubset['x1f']) + buffer_pixels\n",
    "    \n",
    "    x2min = min(dfsubset['x2f']) - buffer_pixels\n",
    "    x2max = max(dfsubset['x2f']) + buffer_pixels\n",
    "    \n",
    "    \n",
    "    t1 = dfsubset[dfkeys[0]].unique()\n",
    "    t2 = dfsubset[dfkeys[1]].unique()\n",
    "    tstring = str(t1) + \" : \" + str(t2)\n",
    "    \n",
    "    fig, ax = plt.subplots(ncols=1, nrows=1, figsize=(6, 6))\n",
    "    fig.suptitle(tstring)\n",
    "    rect = mpatches.Rectangle((x1min, x2min),  x1max - x1min, x2max - x2min,\n",
    "                              fill=False, edgecolor='red', linewidth=2)\n",
    "    ax.add_patch(rect)\n",
    "    ax.imshow(f, cmap='Greys_r', interpolation = \"nearest\")\n",
    "    "
   ]
  },
  {
   "cell_type": "code",
   "execution_count": 290,
   "metadata": {
    "collapsed": false
   },
   "outputs": [
    {
     "data": {
      "image/png": "[encoded data removed]",
      "text/plain": [
       "<matplotlib.figure.Figure at 0x13440aa90>"
      ]
     },
     "metadata": {},
     "output_type": "display_data"
    }
   ],
   "source": [
    "xdims = [x1_dim, x2_dim]\n",
    "plot_image('10-110', allcoords, xdims, interpolate = True)"
   ]
  },
  {
   "cell_type": "code",
   "execution_count": 222,
   "metadata": {
    "collapsed": false
   },
   "outputs": [],
   "source": [
    "def segment_image(coords, uniqueid, xdims, sizeout, buffer_pixels = 10):\n",
    "    f = gen_feature_matrix(coords, uniqueid, xdims, interpolate = True)\n",
    "    dfsubset = coords[coords['id'] == uniqueid]\n",
    "    \n",
    "    x1min = min(dfsubset['x1f']) - buffer_pixels\n",
    "    x1max = max(dfsubset['x1f']) + buffer_pixels\n",
    "    \n",
    "    x2min = min(dfsubset['x2f']) - buffer_pixels\n",
    "    x2max = max(dfsubset['x2f']) + buffer_pixels\n",
    "    \n",
    "    subimg = f[x2min:x2max, x1min:x1max]\n",
    "    scaledimage = skt.resize(subimg, sizeout)\n",
    "    return scaledimage"
   ]
  },
  {
   "cell_type": "code",
   "execution_count": 268,
   "metadata": {
    "collapsed": false
   },
   "outputs": [],
   "source": [
    "def greyround(a):\n",
    "    \n",
    "    for coord in np.nditer(a, op_flags=['readwrite']):\n",
    "        if coord > 200:\n",
    "            coord[...] = 255\n",
    "        else:\n",
    "            coord [...]= 0"
   ]
  },
  {
   "cell_type": "code",
   "execution_count": 289,
   "metadata": {
    "collapsed": false
   },
   "outputs": [
    {
     "data": {
      "text/plain": [
       "<matplotlib.image.AxesImage at 0x134405a90>"
      ]
     },
     "execution_count": 289,
     "metadata": {},
     "output_type": "execute_result"
    },
    {
     "data": {
      "image/png": "[encoded data removed]",
      "text/plain": [
       "<matplotlib.figure.Figure at 0x1343d9a20>"
      ]
     },
     "metadata": {},
     "output_type": "display_data"
    }
   ],
   "source": [
    "t = gen_feature_matrix(allcoords, '1-1', xdims)\n",
    "imgs = segment_image(allcoords, '10-110', xdims, sizeout = [40, 40])\n",
    "plt.imshow(imgs, cmap='Greys_r', interpolation=\"nearest\")"
   ]
  },
  {
   "cell_type": "code",
   "execution_count": 301,
   "metadata": {
    "collapsed": true
   },
   "outputs": [],
   "source": [
    "def extract_note(uniqueid, dataset, sizeout):\n",
    "    \n",
    "    x1_dim = round_to(max(dataset['x1']) + abs(min(dataset['x1'])), 25)\n",
    "    x2_dim = round_to(max(dataset['x2']) + abs(min(dataset['x2'])), 25)\n",
    "    xdims = [x1_dim, x2_dim]\n",
    "    img = segment_image(dataset, uniqueid, xdims, sizeout = sizeout)\n",
    "    return img"
   ]
  },
  {
   "cell_type": "code",
   "execution_count": 344,
   "metadata": {
    "collapsed": false
   },
   "outputs": [],
   "source": [
    "from pybrain.structure import FeedForwardNetwork\n",
    "from pybrain.datasets            import ClassificationDataSet\n",
    "from pybrain.utilities           import percentError\n",
    "from pybrain.tools.shortcuts     import buildNetwork\n",
    "from pybrain.supervised.trainers import BackpropTrainer\n",
    "from pybrain.structure.modules   import SoftmaxLayer\n",
    "from pylab import ion, ioff, figure, draw, contourf, clf, show, hold, plot\n",
    "from scipy import diag, arange, meshgrid, where\n",
    "from numpy.random import multivariate_normal"
   ]
  },
  {
   "cell_type": "code",
   "execution_count": 366,
   "metadata": {
    "collapsed": true
   },
   "outputs": [],
   "source": [
    "import pickle"
   ]
  },
  {
   "cell_type": "code",
   "execution_count": 360,
   "metadata": {
    "collapsed": false
   },
   "outputs": [],
   "source": [
    "# Don't split this cell! Running this not all at once might screw up the deterministic shuffling.\n",
    "\n",
    "qn = allcoords[allcoords['y'] == 'Quarter-Note']\n",
    "hn = allcoords[allcoords['y'] == 'Half-Note']\n",
    "qn_ids = qn['id'].unique()\n",
    "hn_ids = qn['id'].unique()\n",
    "# print('Unique Quarter notes: ' + str(len(qn_ids)))\n",
    "# print('Unique Half notes: ' + str(len(hn_ids)))\n",
    "\n",
    "prng = np.random.RandomState(1337)\n",
    "prng.shuffle(qn_ids)\n",
    "prng.shuffle(hn_ids)"
   ]
  },
  {
   "cell_type": "code",
   "execution_count": 361,
   "metadata": {
    "collapsed": false
   },
   "outputs": [],
   "source": [
    "TRAIN_FRACTION = .6\n",
    "CV_FRACTION = .2\n",
    "TEST_FRACTION = .2\n",
    "# The above should always add up to 1\n",
    "\n",
    "total_exs = len(qn_ids);\n",
    "\n",
    "train_exs = int(total_exs * TRAIN_FRACTION)\n",
    "cv_exs = total_exs * CV_FRACTION\n",
    "test_exs = total_exs * TEST_FRACTION\n",
    "\n",
    "qn_train = qn_ids[0:train_exs]\n",
    "hn_train = hn_ids[0:train_exs]"
   ]
  },
  {
   "cell_type": "code",
   "execution_count": 362,
   "metadata": {
    "collapsed": false
   },
   "outputs": [],
   "source": [
    "img_width = 40\n",
    "img_height = 40\n",
    "img_size = [img_height, img_width]\n",
    "pxlbuf = 0\n",
    "\n",
    "training_dataset = ClassificationDataSet(img_width * img_height, 1, nb_classes=2)"
   ]
  },
  {
   "cell_type": "code",
   "execution_count": 373,
   "metadata": {
    "collapsed": false,
    "scrolled": true
   },
   "outputs": [
    {
     "name": "stdout",
     "output_type": "stream",
     "text": [
      "Processed 0 examples\n",
      "Processed 1 examples\n",
      "Processed 2 examples\n",
      "Processed 3 examples\n",
      "Processed 4 examples\n",
      "Processed 5 examples\n",
      "Processed 6 examples\n",
      "Processed 7 examples\n",
      "Processed 8 examples\n",
      "Processed 9 examples\n",
      "Processed 10 examples\n",
      "Processed 11 examples\n",
      "Processed 12 examples\n",
      "Processed 13 examples\n",
      "Processed 14 examples\n",
      "Processed 15 examples\n",
      "Processed 16 examples\n",
      "Processed 17 examples\n",
      "Processed 18 examples\n",
      "Processed 19 examples\n",
      "Processed 20 examples\n",
      "Processed 21 examples\n",
      "Processed 22 examples\n",
      "Processed 23 examples\n",
      "Processed 24 examples\n",
      "Processed 25 examples\n",
      "Processed 26 examples\n",
      "Processed 27 examples\n",
      "Processed 28 examples\n",
      "Processed 29 examples\n",
      "Processed 30 examples\n",
      "Processed 31 examples\n",
      "Processed 32 examples\n",
      "Processed 33 examples\n",
      "Processed 34 examples\n",
      "Processed 35 examples\n",
      "Processed 36 examples\n",
      "Processed 37 examples\n",
      "Processed 38 examples\n",
      "Processed 39 examples\n",
      "Processed 40 examples\n",
      "Processed 41 examples\n",
      "Processed 42 examples\n",
      "Processed 43 examples\n",
      "Processed 44 examples\n",
      "Processed 45 examples\n",
      "Processed 46 examples\n",
      "Processed 47 examples\n",
      "Processed 48 examples\n",
      "Processed 49 examples\n",
      "Processed 50 examples\n",
      "Processed 51 examples\n",
      "Processed 52 examples\n",
      "Processed 53 examples\n",
      "Processed 54 examples\n",
      "Processed 55 examples\n",
      "Processed 56 examples\n",
      "Processed 57 examples\n",
      "Processed 58 examples\n",
      "Processed 59 examples\n",
      "Processed 60 examples\n",
      "Processed 61 examples\n",
      "Processed 62 examples\n",
      "Processed 63 examples\n",
      "Processed 64 examples\n",
      "Processed 65 examples\n",
      "Processed 66 examples\n",
      "Processed 67 examples\n",
      "Processed 68 examples\n",
      "Processed 69 examples\n",
      "Processed 70 examples\n",
      "Processed 71 examples\n",
      "Processed 72 examples\n",
      "Processed 73 examples\n",
      "Processed 74 examples\n",
      "Processed 75 examples\n",
      "Processed 76 examples\n",
      "Processed 77 examples\n",
      "Processed 78 examples\n",
      "Processed 79 examples\n",
      "Processed 80 examples\n",
      "Processed 81 examples\n",
      "Processed 82 examples\n",
      "Processed 83 examples\n",
      "Processed 84 examples\n",
      "Processed 85 examples\n",
      "Processed 86 examples\n",
      "Processed 87 examples\n",
      "Processed 88 examples\n",
      "Processed 89 examples\n",
      "Processed 90 examples\n",
      "Processed 91 examples\n",
      "Processed 92 examples\n",
      "Processed 93 examples\n",
      "Processed 94 examples\n",
      "Processed 95 examples\n",
      "Processed 96 examples\n",
      "Processed 97 examples\n",
      "Processed 98 examples\n",
      "Processed 99 examples\n",
      "Processed 100 examples\n",
      "Processed 101 examples\n",
      "Processed 102 examples\n",
      "Processed 103 examples\n",
      "Processed 104 examples\n",
      "Processed 105 examples\n",
      "Processed 106 examples\n",
      "Processed 107 examples\n",
      "Processed 108 examples\n",
      "Processed 109 examples\n",
      "Processed 110 examples\n",
      "Processed 111 examples\n",
      "Processed 112 examples\n",
      "Processed 113 examples\n",
      "Processed 114 examples\n",
      "Processed 115 examples\n",
      "Processed 116 examples\n",
      "Processed 117 examples\n",
      "Processed 118 examples\n",
      "Processed 119 examples\n",
      "Processed 120 examples\n",
      "Processed 121 examples\n",
      "Processed 122 examples\n",
      "Processed 123 examples\n",
      "Processed 124 examples\n",
      "Processed 125 examples\n",
      "Processed 126 examples\n",
      "Processed 127 examples\n",
      "Processed 128 examples\n",
      "Processed 129 examples\n",
      "Processed 130 examples\n",
      "Processed 131 examples\n",
      "Processed 132 examples\n",
      "Processed 133 examples\n",
      "Processed 134 examples\n",
      "Processed 135 examples\n",
      "Processed 136 examples\n",
      "Processed 137 examples\n",
      "Processed 138 examples\n",
      "Processed 139 examples\n",
      "Processed 140 examples\n",
      "Processed 141 examples\n",
      "Processed 142 examples\n",
      "Processed 143 examples\n",
      "Processed 144 examples\n",
      "Processed 145 examples\n",
      "Processed 146 examples\n",
      "Processed 147 examples\n",
      "Processed 148 examples\n",
      "Processed 149 examples\n",
      "Processed 150 examples\n",
      "Processed 151 examples\n",
      "Processed 152 examples\n",
      "Processed 153 examples\n",
      "Processed 154 examples\n",
      "Processed 155 examples\n",
      "Processed 156 examples\n",
      "Processed 157 examples\n",
      "Processed 158 examples\n",
      "Processed 159 examples\n",
      "Processed 160 examples\n",
      "Processed 161 examples\n",
      "Processed 162 examples\n",
      "Processed 163 examples\n",
      "Processed 164 examples\n",
      "Processed 165 examples\n",
      "Processed 166 examples\n",
      "Processed 167 examples\n",
      "Processed 168 examples\n",
      "Processed 169 examples\n",
      "Processed 170 examples\n",
      "Processed 171 examples\n",
      "Processed 172 examples\n",
      "Processed 173 examples\n",
      "Processed 174 examples\n",
      "Processed 175 examples\n",
      "Processed 176 examples\n",
      "Processed 177 examples\n",
      "Processed 178 examples\n",
      "Processed 179 examples\n",
      "Processed 180 examples\n",
      "Processed 181 examples\n",
      "Processed 182 examples\n",
      "Processed 183 examples\n",
      "Processed 184 examples\n",
      "Processed 185 examples\n",
      "Processed 186 examples\n",
      "Processed 187 examples\n",
      "Processed 188 examples\n",
      "Processed 189 examples\n",
      "Processed 190 examples\n",
      "Processed 191 examples\n",
      "Processed 192 examples\n",
      "Processed 193 examples\n",
      "Processed 194 examples\n",
      "Processed 195 examples\n",
      "Processed 196 examples\n",
      "Processed 197 examples\n",
      "Processed 198 examples\n",
      "Processed 199 examples\n",
      "Processed 200 examples\n",
      "Processed 201 examples\n",
      "Processed 202 examples\n",
      "Processed 203 examples\n",
      "Processed 204 examples\n",
      "Processed 205 examples\n",
      "Processed 206 examples\n",
      "Processed 207 examples\n",
      "Processed 208 examples\n",
      "Processed 209 examples\n",
      "Processed 210 examples\n",
      "Processed 211 examples\n",
      "Processed 212 examples\n",
      "Processed 213 examples\n",
      "Processed 214 examples\n",
      "Processed 215 examples\n",
      "Processed 216 examples\n",
      "Processed 217 examples\n",
      "Processed 218 examples\n",
      "Processed 219 examples\n",
      "Processed 220 examples\n",
      "Processed 221 examples\n",
      "Processed 222 examples\n",
      "Processed 223 examples\n",
      "Processed 224 examples\n",
      "Processed 225 examples\n",
      "Processed 226 examples\n",
      "Processed 227 examples\n",
      "Processed 228 examples\n",
      "Processed 229 examples\n",
      "Processed 230 examples\n",
      "Processed 231 examples\n",
      "Processed 232 examples\n",
      "Processed 233 examples\n",
      "Processed 234 examples\n",
      "Processed 235 examples\n",
      "Processed 236 examples\n",
      "Processed 237 examples\n",
      "Processed 238 examples\n",
      "Processed 239 examples\n",
      "Processed 240 examples\n",
      "Processed 241 examples\n",
      "Processed 242 examples\n",
      "Processed 243 examples\n",
      "Processed 244 examples\n",
      "Processed 245 examples\n",
      "Processed 246 examples\n",
      "Processed 247 examples\n",
      "Processed 248 examples\n",
      "Processed 249 examples\n",
      "Processed 250 examples\n",
      "Processed 251 examples\n",
      "Processed 252 examples\n",
      "Processed 253 examples\n",
      "Processed 254 examples\n",
      "Processed 255 examples\n",
      "Processed 256 examples\n",
      "Processed 257 examples\n",
      "Processed 258 examples\n",
      "Processed 259 examples\n",
      "Processed 260 examples\n",
      "Processed 261 examples\n",
      "Processed 262 examples\n",
      "Processed 263 examples\n",
      "Processed 264 examples\n",
      "Processed 265 examples\n",
      "Processed 266 examples\n",
      "Processed 267 examples\n",
      "Processed 268 examples\n",
      "Processed 269 examples\n",
      "Processed 270 examples\n",
      "Processed 271 examples\n",
      "Processed 272 examples\n",
      "Processed 273 examples\n",
      "Processed 274 examples\n",
      "Processed 275 examples\n",
      "Processed 276 examples\n",
      "Processed 277 examples\n",
      "Processed 278 examples\n",
      "Processed 279 examples\n",
      "Processed 280 examples\n",
      "Processed 281 examples\n",
      "Processed 282 examples\n",
      "Processed 283 examples\n",
      "Processed 284 examples\n",
      "Processed 285 examples\n",
      "Processed 286 examples\n",
      "Processed 287 examples\n",
      "Processed 288 examples\n",
      "Processed 289 examples\n",
      "Processed 290 examples\n",
      "Processed 291 examples\n",
      "Processed 292 examples\n",
      "Processed 293 examples\n",
      "Processed 294 examples\n",
      "Processed 295 examples\n",
      "Processed 296 examples\n",
      "Processed 297 examples\n",
      "Processed 298 examples\n",
      "Processed 299 examples\n",
      "Processed 300 examples\n",
      "Processed 301 examples\n",
      "Processed 302 examples\n",
      "Processed 303 examples\n",
      "Processed 304 examples\n",
      "Processed 305 examples\n",
      "Processed 306 examples\n",
      "Processed 307 examples\n",
      "Processed 308 examples\n",
      "Processed 309 examples\n",
      "Processed 310 examples\n",
      "Processed 311 examples\n",
      "Processed 312 examples\n",
      "Processed 313 examples\n",
      "Processed 314 examples\n",
      "Processed 315 examples\n",
      "Processed 316 examples\n",
      "Processed 317 examples\n",
      "Processed 318 examples\n",
      "Processed 319 examples\n",
      "Processed 320 examples\n",
      "Processed 321 examples\n",
      "Processed 322 examples\n",
      "Processed 323 examples\n",
      "Processed 324 examples\n",
      "Processed 325 examples\n",
      "Processed 326 examples\n",
      "Processed 327 examples\n",
      "Processed 328 examples\n",
      "Processed 329 examples\n",
      "Processed 330 examples\n",
      "Processed 331 examples\n",
      "Processed 332 examples\n",
      "Processed 333 examples\n",
      "Processed 334 examples\n",
      "Processed 335 examples\n"
     ]
    },
    {
     "ename": "IndexError",
     "evalue": "index 300 is out of bounds for axis 0 with size 300",
     "output_type": "error",
     "traceback": [
      "\u001b[0;31m---------------------------------------------------------------------------\u001b[0m",
      "\u001b[0;31mIndexError\u001b[0m                                Traceback (most recent call last)",
      "\u001b[0;32m<ipython-input-373-b063945d5332>\u001b[0m in \u001b[0;36m<module>\u001b[0;34m()\u001b[0m\n\u001b[1;32m      5\u001b[0m \u001b[0;34m\u001b[0m\u001b[0m\n\u001b[1;32m      6\u001b[0m     \u001b[0mqid\u001b[0m \u001b[0;34m=\u001b[0m \u001b[0mqn_train\u001b[0m\u001b[0;34m[\u001b[0m\u001b[0mk\u001b[0m\u001b[0;34m]\u001b[0m\u001b[0;34m\u001b[0m\u001b[0m\n\u001b[0;32m----> 7\u001b[0;31m     \u001b[0mqexm\u001b[0m \u001b[0;34m=\u001b[0m \u001b[0msegment_image\u001b[0m\u001b[0;34m(\u001b[0m\u001b[0mallcoords\u001b[0m\u001b[0;34m,\u001b[0m \u001b[0mqid\u001b[0m\u001b[0;34m,\u001b[0m \u001b[0mxdims\u001b[0m\u001b[0;34m,\u001b[0m \u001b[0mimg_size\u001b[0m\u001b[0;34m,\u001b[0m \u001b[0mpxlbuf\u001b[0m\u001b[0;34m)\u001b[0m\u001b[0;34m.\u001b[0m\u001b[0mflatten\u001b[0m\u001b[0;34m(\u001b[0m\u001b[0;34m)\u001b[0m\u001b[0;34m\u001b[0m\u001b[0m\n\u001b[0m\u001b[1;32m      8\u001b[0m     \u001b[0mqlab\u001b[0m \u001b[0;34m=\u001b[0m \u001b[0;36m0\u001b[0m\u001b[0;34m\u001b[0m\u001b[0m\n\u001b[1;32m      9\u001b[0m \u001b[0;34m\u001b[0m\u001b[0m\n",
      "\u001b[0;32m<ipython-input-222-0ea558c9a90b>\u001b[0m in \u001b[0;36msegment_image\u001b[0;34m(coords, uniqueid, xdims, sizeout, buffer_pixels)\u001b[0m\n\u001b[1;32m      1\u001b[0m \u001b[0;32mdef\u001b[0m \u001b[0msegment_image\u001b[0m\u001b[0;34m(\u001b[0m\u001b[0mcoords\u001b[0m\u001b[0;34m,\u001b[0m \u001b[0muniqueid\u001b[0m\u001b[0;34m,\u001b[0m \u001b[0mxdims\u001b[0m\u001b[0;34m,\u001b[0m \u001b[0msizeout\u001b[0m\u001b[0;34m,\u001b[0m \u001b[0mbuffer_pixels\u001b[0m \u001b[0;34m=\u001b[0m \u001b[0;36m10\u001b[0m\u001b[0;34m)\u001b[0m\u001b[0;34m:\u001b[0m\u001b[0;34m\u001b[0m\u001b[0m\n\u001b[0;32m----> 2\u001b[0;31m     \u001b[0mf\u001b[0m \u001b[0;34m=\u001b[0m \u001b[0mgen_feature_matrix\u001b[0m\u001b[0;34m(\u001b[0m\u001b[0mcoords\u001b[0m\u001b[0;34m,\u001b[0m \u001b[0muniqueid\u001b[0m\u001b[0;34m,\u001b[0m \u001b[0mxdims\u001b[0m\u001b[0;34m,\u001b[0m \u001b[0minterpolate\u001b[0m \u001b[0;34m=\u001b[0m \u001b[0;32mTrue\u001b[0m\u001b[0;34m)\u001b[0m\u001b[0;34m\u001b[0m\u001b[0m\n\u001b[0m\u001b[1;32m      3\u001b[0m     \u001b[0mdfsubset\u001b[0m \u001b[0;34m=\u001b[0m \u001b[0mcoords\u001b[0m\u001b[0;34m[\u001b[0m\u001b[0mcoords\u001b[0m\u001b[0;34m[\u001b[0m\u001b[0;34m'id'\u001b[0m\u001b[0;34m]\u001b[0m \u001b[0;34m==\u001b[0m \u001b[0muniqueid\u001b[0m\u001b[0;34m]\u001b[0m\u001b[0;34m\u001b[0m\u001b[0m\n\u001b[1;32m      4\u001b[0m \u001b[0;34m\u001b[0m\u001b[0m\n\u001b[1;32m      5\u001b[0m     \u001b[0mx1min\u001b[0m \u001b[0;34m=\u001b[0m \u001b[0mmin\u001b[0m\u001b[0;34m(\u001b[0m\u001b[0mdfsubset\u001b[0m\u001b[0;34m[\u001b[0m\u001b[0;34m'x1f'\u001b[0m\u001b[0;34m]\u001b[0m\u001b[0;34m)\u001b[0m \u001b[0;34m-\u001b[0m \u001b[0mbuffer_pixels\u001b[0m\u001b[0;34m\u001b[0m\u001b[0m\n",
      "\u001b[0;32m<ipython-input-165-554fbb0d0bd3>\u001b[0m in \u001b[0;36mgen_feature_matrix\u001b[0;34m(df_in, uniqueid, dims, idfieldname, keylist, interpolate)\u001b[0m\n\u001b[1;32m     33\u001b[0m             \u001b[0mrr\u001b[0m\u001b[0;34m,\u001b[0m \u001b[0mcc\u001b[0m \u001b[0;34m=\u001b[0m \u001b[0mline\u001b[0m\u001b[0;34m(\u001b[0m\u001b[0mpt1\u001b[0m\u001b[0;34m[\u001b[0m\u001b[0;36m0\u001b[0m\u001b[0;34m]\u001b[0m\u001b[0;34m,\u001b[0m \u001b[0mpt1\u001b[0m\u001b[0;34m[\u001b[0m\u001b[0;36m1\u001b[0m\u001b[0;34m]\u001b[0m\u001b[0;34m,\u001b[0m \u001b[0mpt2\u001b[0m\u001b[0;34m[\u001b[0m\u001b[0;36m0\u001b[0m\u001b[0;34m]\u001b[0m\u001b[0;34m,\u001b[0m \u001b[0mpt2\u001b[0m\u001b[0;34m[\u001b[0m\u001b[0;36m1\u001b[0m\u001b[0;34m]\u001b[0m\u001b[0;34m)\u001b[0m\u001b[0;34m\u001b[0m\u001b[0m\n\u001b[1;32m     34\u001b[0m \u001b[0;34m\u001b[0m\u001b[0m\n\u001b[0;32m---> 35\u001b[0;31m             \u001b[0moutputX\u001b[0m\u001b[0;34m[\u001b[0m\u001b[0mrr\u001b[0m\u001b[0;34m,\u001b[0m\u001b[0mcc\u001b[0m\u001b[0;34m]\u001b[0m \u001b[0;34m=\u001b[0m \u001b[0mBLK_COLOR\u001b[0m\u001b[0;34m\u001b[0m\u001b[0m\n\u001b[0m\u001b[1;32m     36\u001b[0m     \u001b[0;32melse\u001b[0m\u001b[0;34m:\u001b[0m\u001b[0;34m\u001b[0m\u001b[0m\n\u001b[1;32m     37\u001b[0m         \u001b[0moutputX\u001b[0m \u001b[0;34m=\u001b[0m \u001b[0mmultiassignmentlist\u001b[0m\u001b[0;34m(\u001b[0m\u001b[0moutputX\u001b[0m\u001b[0;34m,\u001b[0m \u001b[0mindexlist\u001b[0m\u001b[0;34m,\u001b[0m \u001b[0mBLK_COLOR\u001b[0m\u001b[0;34m)\u001b[0m\u001b[0;34m\u001b[0m\u001b[0m\n",
      "\u001b[0;31mIndexError\u001b[0m: index 300 is out of bounds for axis 0 with size 300"
     ]
    }
   ],
   "source": [
    "# Quarter notes are 0, half notes are 1\n",
    "for k in range(0,total_exs-1):\n",
    "#     if k % 100 == 0:\n",
    "    print('Processed ' + str(k) + ' examples')\n",
    "        \n",
    "    qid = qn_train[k]\n",
    "    qexm = segment_image(allcoords, qid, xdims, img_size, pxlbuf).flatten()\n",
    "    qlab = 0\n",
    "    \n",
    "    training_dataset.addSample(qexm, [qlab])\n",
    "    \n",
    "    hid = hn_train[k]\n",
    "    hexm = segment_image(allcoords, hid, xdims, img_size, pxlbuf).flatten()\n",
    "    hlab = 1\n",
    "    \n",
    "    training_dataset.addSample(hexm, [hlab])"
   ]
  },
  {
   "cell_type": "code",
   "execution_count": 370,
   "metadata": {
    "collapsed": false
   },
   "outputs": [],
   "source": [
    "tdata_pi = open('training_dataset.pyobj','wb')\n",
    "pickle.dump(training_dataset, tdata_pi)"
   ]
  },
  {
   "cell_type": "code",
   "execution_count": 427,
   "metadata": {
    "collapsed": false,
    "scrolled": true
   },
   "outputs": [
    {
     "name": "stdout",
     "output_type": "stream",
     "text": [
      "Number of training patterns:  1131\n",
      "Input and output dimensions:  1600 2\n",
      "First sample (input, target, class):\n",
      "[ 242.25  255.    255.   ...,  255.    255.    242.25] [0 1] [1]\n",
      "Total error:  0.144218922503\n"
     ]
    },
    {
     "ename": "AttributeError",
     "evalue": "'float' object has no attribute 'append'",
     "output_type": "error",
     "traceback": [
      "\u001b[0;31m---------------------------------------------------------------------------\u001b[0m",
      "\u001b[0;31mAttributeError\u001b[0m                            Traceback (most recent call last)",
      "\u001b[0;32m<ipython-input-427-7d415481cc56>\u001b[0m in \u001b[0;36m<module>\u001b[0;34m()\u001b[0m\n\u001b[1;32m     31\u001b[0m \u001b[0;34m\u001b[0m\u001b[0m\n\u001b[1;32m     32\u001b[0m     \u001b[0mtrnerrs\u001b[0m\u001b[0;34m.\u001b[0m\u001b[0mappend\u001b[0m\u001b[0;34m(\u001b[0m\u001b[0mtrnresult\u001b[0m\u001b[0;34m)\u001b[0m\u001b[0;34m\u001b[0m\u001b[0m\n\u001b[0;32m---> 33\u001b[0;31m     \u001b[0mtstresult\u001b[0m\u001b[0;34m.\u001b[0m\u001b[0mappend\u001b[0m\u001b[0;34m(\u001b[0m\u001b[0mtstresult\u001b[0m\u001b[0;34m)\u001b[0m\u001b[0;34m\u001b[0m\u001b[0m\n\u001b[0m\u001b[1;32m     34\u001b[0m \u001b[0;34m\u001b[0m\u001b[0m\n\u001b[1;32m     35\u001b[0m     \u001b[0mprint\u001b[0m\u001b[0;34m(\u001b[0m \u001b[0;34m\"epoch: %4d\"\u001b[0m \u001b[0;34m%\u001b[0m \u001b[0mtrainer\u001b[0m\u001b[0;34m.\u001b[0m\u001b[0mtotalepochs\u001b[0m\u001b[0;34m,\u001b[0m           \u001b[0;34m\"  train error: %5.2f%%\"\u001b[0m \u001b[0;34m%\u001b[0m \u001b[0mtrnresult\u001b[0m\u001b[0;34m,\u001b[0m           \u001b[0;34m\"  test error: %5.2f%%\"\u001b[0m \u001b[0;34m%\u001b[0m \u001b[0mtstresult\u001b[0m\u001b[0;34m)\u001b[0m\u001b[0;34m\u001b[0m\u001b[0m\n",
      "\u001b[0;31mAttributeError\u001b[0m: 'float' object has no attribute 'append'"
     ]
    }
   ],
   "source": [
    "tstdata, trndata = training_dataset.splitWithProportion(0.10)\n",
    "\n",
    "tstdata_temp, trndata_temp = training_dataset.splitWithProportion(0.25)\n",
    "\n",
    "tstdata = ClassificationDataSet(img_width * img_height, 1, nb_classes=2)\n",
    "for n in range(1, tstdata_temp.getLength()):\n",
    "    tstdata.addSample( tstdata_temp.getSample(n)[0], tstdata_temp.getSample(n)[1] )\n",
    "\n",
    "trndata = ClassificationDataSet(img_width * img_height, 1, nb_classes=2)\n",
    "for n in range(1, trndata_temp.getLength()):\n",
    "    trndata.addSample( trndata_temp.getSample(n)[0], trndata_temp.getSample(n)[1] )\n",
    "\n",
    "trndata._convertToOneOfMany()\n",
    "tstdata._convertToOneOfMany()\n",
    "\n",
    "print( \"Number of training patterns: \", len(trndata))\n",
    "print( \"Input and output dimensions: \", trndata.indim, trndata.outdim)\n",
    "print( \"First sample (input, target, class):\")\n",
    "print(trndata['input'][0], trndata['target'][0], trndata['class'][0])\n",
    "\n",
    "fnn = buildNetwork(trndata.indim, 60, 25,trndata.outdim, outclass = SoftmaxLayer)\n",
    "trainer = BackpropTrainer(fnn, dataset = trndata, momentum = 0, verbose = True, weightdecay=.001)\n",
    "trnerrs = []\n",
    "tsterrs = []\n",
    "for i in range(20):\n",
    "    trainer.trainEpochs(1)\n",
    "    trnresult = percentError( trainer.testOnClassData(),\n",
    "                              trndata['class'] )\n",
    "    tstresult = percentError( trainer.testOnClassData(\n",
    "           dataset=tstdata ), tstdata['class'] )\n",
    "    \n",
    "    trnerrs.append(trnresult)\n",
    "    tsterrs.append(tstresult)\n",
    "    \n",
    "    print( \"epoch: %4d\" % trainer.totalepochs, \\\n",
    "          \"  train error: %5.2f%%\" % trnresult, \\\n",
    "          \"  test error: %5.2f%%\" % tstresult)"
   ]
  },
  {
   "cell_type": "code",
   "execution_count": 432,
   "metadata": {
    "collapsed": false
   },
   "outputs": [
    {
     "data": {
      "text/plain": [
       "0.001"
      ]
     },
     "execution_count": 432,
     "metadata": {},
     "output_type": "execute_result"
    }
   ],
   "source": [
    "trainer.weightdecay"
   ]
  },
  {
   "cell_type": "code",
   "execution_count": 449,
   "metadata": {
    "collapsed": false
   },
   "outputs": [
    {
     "data": {
      "text/html": [
       "<div>\n",
       "<table border=\"1\" class=\"dataframe\">\n",
       "  <thead>\n",
       "    <tr style=\"text-align: right;\">\n",
       "      <th></th>\n",
       "      <th>x1</th>\n",
       "      <th>x2</th>\n",
       "      <th>stroke</th>\n",
       "      <th>id</th>\n",
       "      <th>y</th>\n",
       "      <th>x1f</th>\n",
       "      <th>x2f</th>\n",
       "    </tr>\n",
       "  </thead>\n",
       "  <tbody>\n",
       "    <tr>\n",
       "      <th>1</th>\n",
       "      <td>13</td>\n",
       "      <td>120</td>\n",
       "      <td>1</td>\n",
       "      <td>1-1</td>\n",
       "      <td>12-8-Time</td>\n",
       "      <td>27</td>\n",
       "      <td>134</td>\n",
       "    </tr>\n",
       "    <tr>\n",
       "      <th>2</th>\n",
       "      <td>14</td>\n",
       "      <td>122</td>\n",
       "      <td>1</td>\n",
       "      <td>1-1</td>\n",
       "      <td>12-8-Time</td>\n",
       "      <td>28</td>\n",
       "      <td>136</td>\n",
       "    </tr>\n",
       "    <tr>\n",
       "      <th>3</th>\n",
       "      <td>15</td>\n",
       "      <td>126</td>\n",
       "      <td>1</td>\n",
       "      <td>1-1</td>\n",
       "      <td>12-8-Time</td>\n",
       "      <td>29</td>\n",
       "      <td>140</td>\n",
       "    </tr>\n",
       "    <tr>\n",
       "      <th>4</th>\n",
       "      <td>16</td>\n",
       "      <td>132</td>\n",
       "      <td>1</td>\n",
       "      <td>1-1</td>\n",
       "      <td>12-8-Time</td>\n",
       "      <td>30</td>\n",
       "      <td>146</td>\n",
       "    </tr>\n",
       "  </tbody>\n",
       "</table>\n",
       "</div>"
      ],
      "text/plain": [
       "   x1   x2  stroke   id          y  x1f  x2f\n",
       "1  13  120       1  1-1  12-8-Time   27  134\n",
       "2  14  122       1  1-1  12-8-Time   28  136\n",
       "3  15  126       1  1-1  12-8-Time   29  140\n",
       "4  16  132       1  1-1  12-8-Time   30  146"
      ]
     },
     "execution_count": 449,
     "metadata": {},
     "output_type": "execute_result"
    }
   ],
   "source": [
    "allcoords[1:5]"
   ]
  },
  {
   "cell_type": "code",
   "execution_count": 448,
   "metadata": {
    "collapsed": false
   },
   "outputs": [
    {
     "data": {
      "text/plain": [
       "[1, 2, 3]"
      ]
     },
     "execution_count": 448,
     "metadata": {},
     "output_type": "execute_result"
    }
   ],
   "source": [
    "[x for x in range(1,4)]"
   ]
  },
  {
   "cell_type": "code",
   "execution_count": null,
   "metadata": {
    "collapsed": true
   },
   "outputs": [],
   "source": [
    "# Exporting to Octave\n",
    "X = np.zeros([1600, 1600]) # Columns of X are individual examples\n",
    "y = np.zeros([1600, 1]) # y(i) correspons to example X(:,1)\n",
    "for k in range(0,800):\n",
    "    if k % 10 == 0:\n",
    "        print('Processed ' + str(k) + ' examples')\n",
    "    f = segment_image(allcoords, \n",
    "    "
   ]
  }
 ],
 "metadata": {
  "kernelspec": {
   "display_name": "Python 3",
   "language": "python",
   "name": "python3"
  },
  "language_info": {
   "codemirror_mode": {
    "name": "ipython",
    "version": 3
   },
   "file_extension": ".py",
   "mimetype": "text/x-python",
   "name": "python",
   "nbconvert_exporter": "python",
   "pygments_lexer": "ipython3",
   "version": "3.4.3"
  }
 },
 "nbformat": 4,
 "nbformat_minor": 1
}
