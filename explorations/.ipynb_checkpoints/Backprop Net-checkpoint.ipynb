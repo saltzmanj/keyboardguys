{
 "cells": [
  {
   "cell_type": "code",
   "execution_count": null,
   "metadata": {
    "collapsed": true
   },
   "outputs": [],
   "source": [
    "!ls"
   ]
  },
  {
   "cell_type": "code",
   "execution_count": 4,
   "metadata": {
    "collapsed": true
   },
   "outputs": [],
   "source": [
    "import numpy as np"
   ]
  },
  {
   "cell_type": "code",
   "execution_count": null,
   "metadata": {
    "collapsed": true
   },
   "outputs": [],
   "source": []
  },
  {
   "cell_type": "code",
   "execution_count": 5,
   "metadata": {
    "collapsed": true
   },
   "outputs": [],
   "source": [
    "def sigmoid(x):\n",
    "    \"\"\" Evaluate the sigmoid function on an np.array\n",
    "    \n",
    "        Keyword Arguments:\n",
    "        x -- an np.array.\n",
    "    \"\"\"\n",
    "    return 1.0 / (1.0 + np.exp(-x))\n",
    "\n",
    "def sigmoid_gradient(x):\n",
    "    \"\"\" Evaluate the sigmoid gradient (i.e. the derivative of the sigmoid function)\n",
    "        \n",
    "        Keyword Arguments:\n",
    "        x -- an np.array\n",
    "    \"\"\"\n",
    "    q = sigmoid(x)\n",
    "    return q * (1 - q)"
   ]
  },
  {
   "cell_type": "code",
   "execution_count": 46,
   "metadata": {
    "collapsed": false
   },
   "outputs": [],
   "source": [
    "def cost_function(nn_params, il_size, hl_size, num_labels, X, y, lam):\n",
    "    \"\"\" Evaluate the cost function for a layer of a backpropogated neural net.\n",
    "    \n",
    "        Keyword Arguments:\n",
    "        \n",
    "        nn_params -- A rolled-up np.array containing the theta parameters of the net.\n",
    "        il_size -- The input layer size.\n",
    "        hl_size -- The hidden layer size.\n",
    "        num_labels -- The number of output neurons, i.e. the output layer size\n",
    "        X -- Feature matrix, with training examples in rows\n",
    "        y -- Label vector, corresponding to output neurons 1 ... num_labels\n",
    "        lam -- regularization parameter\n",
    "    \"\"\"\n",
    "    split_indx = hl_size * (il_size + 1);\n",
    "    \n",
    "#     print(split_indx)\n",
    "#     print(len(nn_params[0:split_indx]))\n",
    "\n",
    "    Theta1 = np.reshape(nn_params[0:split_indx], [hl_size, il_size + 1])\n",
    "    Theta2 = np.reshape(nn_params[split_indx:] , [num_labels, hl_size + 1] )\n",
    "    \n",
    "#     print(Theta1.shape)\n",
    "#     print(Theta2.shape)\n",
    "\n",
    "    m = X.shape[0]\n",
    "\n",
    "    J = 0\n",
    "    \n",
    "    K = num_labels\n",
    "    for i in range(0,m):\n",
    "        # Forward propogation\n",
    "        a_1 = np.insert(X[i,:], 0, 1)\n",
    "        \n",
    "        z_2 = np.dot(Theta1, a_1)\n",
    "        a_2 = np.insert(sigmoid(z_2), 0, 1)\n",
    "        \n",
    "        z_3 = np.dot(Theta2, a_2)\n",
    "        a_3 = sigmoid(z_3)\n",
    "        \n",
    "        yvec = np.zeros([num_labels,1])\n",
    "        yvec[y[i]-1] = 1;\n",
    "        \n",
    "        term1 = np.dot( np.transpose(-1 * yvec), np.log(a_3))\n",
    "        term2 = np.dot( np.transpose(1 - yvec) , np.log(1 - a_3) )\n",
    "\n",
    "        J = J + np.sum( term1 - term2);\n",
    "        \n",
    "        Theta1_temp = Theta1[:,1:]\n",
    "        Theta2_temp = Theta2[:,1:]\n",
    "        regterm = (lam / (2 * m)) * (np.sum(np.power(Theta1_temp.flatten(),2)) + np.sum(np.power(Theta2_temp.flatten(),2)))\n",
    "        J = J + regterm\n",
    "    return J/m"
   ]
  },
  {
   "cell_type": "code",
   "execution_count": 154,
   "metadata": {
    "collapsed": true
   },
   "outputs": [],
   "source": [
    "def jacobian(nn_params, il_size, hl_size, num_labels, X, y, lam):\n",
    "    \"\"\" Evaluate the Jacobian (i.e. gradient) for a layer of a backpropogated neural net.\n",
    "    \n",
    "        Keyword Arguments:\n",
    "        \n",
    "        nn_params -- A rolled-up np.array containing the theta parameters of the net.\n",
    "        il_size -- The input layer size.\n",
    "        hl_size -- The hidden layer size.\n",
    "        num_labels -- The number of output neurons, i.e. the output layer size\n",
    "        X -- Feature matrix, with training examples in rows\n",
    "        y -- Label vector, corresponding to output neurons 1 ... num_labels\n",
    "        lam -- regularization parameter\n",
    "    \"\"\"\n",
    "    split_indx = hl_size * (il_size + 1);\n",
    "    \n",
    "    m = X.shape[0]\n",
    "    \n",
    "    Theta1 = np.reshape(nn_params[0:split_indx], [hl_size, il_size + 1])\n",
    "    Theta2 = np.reshape(nn_params[split_indx:] , [num_labels, hl_size + 1] )\n",
    "    \n",
    "    Theta1_grad = np.zeros(Theta1.shape)\n",
    "    Theta2_grad = np.zeros(Theta2.shape)\n",
    "    \n",
    "    Delta_1 = np.zeros(Theta1.shape)\n",
    "    Delta_2 = np.zeros(Theta2.shape)\n",
    "    for i in range(0,m):\n",
    "        # Forward propogation\n",
    "        a_1 = np.insert(X[i,:], 0, 1)\n",
    "        a_1.shape = (il_size + 1, 1)\n",
    "        \n",
    "        z_2 = np.dot(Theta1, a_1)\n",
    "        a_2 = np.insert(sigmoid(z_2), 0, 1)\n",
    "        a_2.shape = (hl_size + 1, 1)\n",
    "        \n",
    "        z_3 = np.dot(Theta2, a_2)\n",
    "        a_3 = sigmoid(z_3)\n",
    "        a_3.shape = (num_labels,1)\n",
    "        yvec = np.zeros([num_labels,1])\n",
    "        yvec[y[i]-1] = 1;\n",
    "                \n",
    "        d_3 = a_3 - yvec\n",
    "        siggrad = sigmoid_gradient(z_2).flatten()\n",
    "        siggrad.shape = (hl_size,1)\n",
    "\n",
    "        d_2 = np.multiply(np.dot(np.transpose(Theta2[:,1:]), d_3), siggrad)\n",
    "        \n",
    "#         print(Delta_2.shape)\n",
    "#         print(np.dot(d_3, np.transpose(a_2)).shape)\n",
    "#         print(Delta_1.shape)\n",
    "#         print(d_2.shape)\n",
    "#         print(np.transpose(a_1).shape)\n",
    "#         print(np.dot(d_2, np.transpose(a_1)).shape)\n",
    "        Delta_2 = Delta_2 + np.dot(d_3, np.transpose(a_2))\n",
    "        Delta_1 = Delta_1 + np.dot(d_2, np.transpose(a_1))\n",
    "    \n",
    "    Theta1_grad = Delta_1 * 1/m;\n",
    "    Theta2_grad = Delta_2 * 1/m;\n",
    "    \n",
    "    Theta1_grad[:,1:] = Theta1_grad[:,1:] + lam/m * Theta1[:,1:]\n",
    "    Theta2_grad[:,1:] = Theta2_grad[:,1:] + lam/m * Theta2[:,1:]\n",
    "    t1 = Theta1_grad.flatten()\n",
    "    t2 = Theta2_grad.flatten()\n",
    "    \n",
    "    return np.concatenate([t1, t2])"
   ]
  },
  {
   "cell_type": "code",
   "execution_count": 159,
   "metadata": {
    "collapsed": false
   },
   "outputs": [
    {
     "name": "stdout",
     "output_type": "stream",
     "text": [
      "1.38956500663\n",
      "115.333895551\n"
     ]
    }
   ],
   "source": [
    "ws = 10*(4 + 1) + 11*3\n",
    "tparams = np.ones(ws)\n",
    "j = jacobian(tparams, 4, 10, 3, np.array([[1,2,3,4],[4,5,6,7],[7,8,9,10]]), np.array([1,2,3]), 4)\n",
    "print(np.mean(j))\n",
    "print(np.sum(j))"
   ]
  },
  {
   "cell_type": "code",
   "execution_count": 47,
   "metadata": {
    "collapsed": false
   },
   "outputs": [
    {
     "data": {
      "text/plain": [
       "68.666605430649767"
      ]
     },
     "execution_count": 47,
     "metadata": {},
     "output_type": "execute_result"
    }
   ],
   "source": [
    "ws = 10*(4 + 1) + 11*3\n",
    "tparams = np.ones(ws)\n",
    "cost_function(tparams, 4, 10, 3, np.array([[1,2,3,4],[4,5,6,7],[7,8,9,10]]), np.array([1,2,3]), 4)"
   ]
  },
  {
   "cell_type": "code",
   "execution_count": 128,
   "metadata": {
    "collapsed": false
   },
   "outputs": [
    {
     "data": {
      "text/plain": [
       "array([4, 5, 6])"
      ]
     },
     "execution_count": 128,
     "metadata": {},
     "output_type": "execute_result"
    }
   ],
   "source": [
    "q = np.array([1,2,3,4,5])\n",
    "f = np.array([[1,2,3],[4,5,6],[7,8,9]])\n",
    "np.insert(q, 0, -1)\n",
    "f[1,:]"
   ]
  },
  {
   "cell_type": "code",
   "execution_count": 56,
   "metadata": {
    "collapsed": false
   },
   "outputs": [],
   "source": [
    "?np.dot"
   ]
  },
  {
   "cell_type": "code",
   "execution_count": 132,
   "metadata": {
    "collapsed": false
   },
   "outputs": [
    {
     "name": "stdout",
     "output_type": "stream",
     "text": [
      "[[1 2 3]\n",
      " [4 5 6]]\n"
     ]
    },
    {
     "ename": "ValueError",
     "evalue": "operands could not be broadcast together with shapes (2,3) (3,4) ",
     "output_type": "error",
     "traceback": [
      "\u001b[0;31m---------------------------------------------------------------------------\u001b[0m",
      "\u001b[0;31mValueError\u001b[0m                                Traceback (most recent call last)",
      "\u001b[0;32m<ipython-input-132-6a13e86cfb74>\u001b[0m in \u001b[0;36m<module>\u001b[0;34m()\u001b[0m\n\u001b[1;32m      2\u001b[0m \u001b[0mb\u001b[0m \u001b[0;34m=\u001b[0m \u001b[0mnp\u001b[0m\u001b[0;34m.\u001b[0m\u001b[0marray\u001b[0m\u001b[0;34m(\u001b[0m\u001b[0;34m[\u001b[0m\u001b[0;34m[\u001b[0m\u001b[0;36m1\u001b[0m\u001b[0;34m,\u001b[0m\u001b[0;36m2\u001b[0m\u001b[0;34m,\u001b[0m\u001b[0;36m3\u001b[0m\u001b[0;34m,\u001b[0m\u001b[0;36m4\u001b[0m\u001b[0;34m]\u001b[0m\u001b[0;34m,\u001b[0m \u001b[0;34m[\u001b[0m\u001b[0;36m5\u001b[0m\u001b[0;34m,\u001b[0m\u001b[0;36m6\u001b[0m\u001b[0;34m,\u001b[0m\u001b[0;36m7\u001b[0m\u001b[0;34m,\u001b[0m\u001b[0;36m8\u001b[0m\u001b[0;34m]\u001b[0m\u001b[0;34m,\u001b[0m \u001b[0;34m[\u001b[0m\u001b[0;36m1\u001b[0m\u001b[0;34m,\u001b[0m\u001b[0;36m2\u001b[0m\u001b[0;34m,\u001b[0m\u001b[0;36m3\u001b[0m\u001b[0;34m,\u001b[0m\u001b[0;36m5\u001b[0m\u001b[0;34m]\u001b[0m\u001b[0;34m]\u001b[0m\u001b[0;34m)\u001b[0m \u001b[0;31m#3x4\u001b[0m\u001b[0;34m\u001b[0m\u001b[0m\n\u001b[1;32m      3\u001b[0m \u001b[0mprint\u001b[0m\u001b[0;34m(\u001b[0m\u001b[0ma\u001b[0m\u001b[0;34m)\u001b[0m\u001b[0;34m\u001b[0m\u001b[0m\n\u001b[0;32m----> 4\u001b[0;31m \u001b[0mnp\u001b[0m\u001b[0;34m.\u001b[0m\u001b[0mmultiply\u001b[0m\u001b[0;34m(\u001b[0m\u001b[0ma\u001b[0m\u001b[0;34m,\u001b[0m\u001b[0mb\u001b[0m\u001b[0;34m)\u001b[0m\u001b[0;34m\u001b[0m\u001b[0m\n\u001b[0m",
      "\u001b[0;31mValueError\u001b[0m: operands could not be broadcast together with shapes (2,3) (3,4) "
     ]
    }
   ],
   "source": [
    "a = np.array([[1,2,3],[4,5,6]]) # 2x3\n",
    "b = np.array([[1,2,3,4], [5,6,7,8], [1,2,3,5]]) #3x4 \n",
    "print(a)\n",
    "np.multiply(a,b)"
   ]
  },
  {
   "cell_type": "code",
   "execution_count": 62,
   "metadata": {
    "collapsed": false
   },
   "outputs": [],
   "source": [
    "?np.reshape"
   ]
  }
 ],
 "metadata": {
  "kernelspec": {
   "display_name": "Python 3",
   "language": "python",
   "name": "python3"
  },
  "language_info": {
   "codemirror_mode": {
    "name": "ipython",
    "version": 3
   },
   "file_extension": ".py",
   "mimetype": "text/x-python",
   "name": "python",
   "nbconvert_exporter": "python",
   "pygments_lexer": "ipython3",
   "version": "3.4.3"
  }
 },
 "nbformat": 4,
 "nbformat_minor": 1
}
