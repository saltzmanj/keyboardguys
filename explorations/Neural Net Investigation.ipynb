{
 "cells": [
  {
   "cell_type": "code",
   "execution_count": 101,
   "metadata": {
    "collapsed": false
   },
   "outputs": [],
   "source": [
    "%matplotlib inline\n",
    "import kgimgproc as kgp\n",
    "import pandas as pd\n",
    "import matplotlib.pyplot as plt\n",
    "from importlib import reload\n",
    "import numpy as np\n",
    "import matplotlib.patches as mpatches\n",
    "import scipy.io as sio"
   ]
  },
  {
   "cell_type": "code",
   "execution_count": 84,
   "metadata": {
    "collapsed": false
   },
   "outputs": [
    {
     "data": {
      "text/plain": [
       "<module 'kgimgproc' from '/Users/jacob/Documents/Home/keyboardguys/explorations/kgimgproc.py'>"
      ]
     },
     "execution_count": 84,
     "metadata": {},
     "output_type": "execute_result"
    }
   ],
   "source": [
    "reload(kgp)"
   ]
  },
  {
   "cell_type": "code",
   "execution_count": 2,
   "metadata": {
    "collapsed": true
   },
   "outputs": [],
   "source": [
    "notes = pd.read_csv(\"../../homus_all_standardized.csv\", index_col = 0)"
   ]
  },
  {
   "cell_type": "code",
   "execution_count": 95,
   "metadata": {
    "collapsed": false
   },
   "outputs": [
    {
     "data": {
      "image/png": "[encoded data removed]",
      "text/plain": [
       "<matplotlib.figure.Figure at 0x10f6081d0>"
      ]
     },
     "metadata": {},
     "output_type": "display_data"
    }
   ],
   "source": [
    "kgp.plot_image(notes, '88-60')"
   ]
  },
  {
   "cell_type": "code",
   "execution_count": 94,
   "metadata": {
    "collapsed": false,
    "scrolled": true
   },
   "outputs": [
    {
     "ename": "ValueError",
     "evalue": "Buffer not C contiguous.",
     "output_type": "error",
     "traceback": [
      "\u001b[0;31m---------------------------------------------------------------------------\u001b[0m",
      "\u001b[0;31mValueError\u001b[0m                                Traceback (most recent call last)",
      "\u001b[0;32m<ipython-input-94-f431c9bccbdb>\u001b[0m in \u001b[0;36m<module>\u001b[0;34m()\u001b[0m\n\u001b[0;32m----> 1\u001b[0;31m \u001b[0mimg1\u001b[0m \u001b[0;34m=\u001b[0m \u001b[0mkgp\u001b[0m\u001b[0;34m.\u001b[0m\u001b[0msegment_image\u001b[0m\u001b[0;34m(\u001b[0m\u001b[0mnotes\u001b[0m\u001b[0;34m,\u001b[0m \u001b[0;34m'88-60'\u001b[0m\u001b[0;34m)\u001b[0m\u001b[0;34m\u001b[0m\u001b[0m\n\u001b[0m\u001b[1;32m      2\u001b[0m \u001b[0;34m\u001b[0m\u001b[0m\n\u001b[1;32m      3\u001b[0m \u001b[0mplt\u001b[0m\u001b[0;34m.\u001b[0m\u001b[0mimshow\u001b[0m\u001b[0;34m(\u001b[0m\u001b[0mimg1\u001b[0m\u001b[0;34m,\u001b[0m \u001b[0mcmap\u001b[0m\u001b[0;34m=\u001b[0m\u001b[0;34m'Greys_r'\u001b[0m\u001b[0;34m,\u001b[0m \u001b[0minterpolation\u001b[0m \u001b[0;34m=\u001b[0m \u001b[0;34m\"nearest\"\u001b[0m\u001b[0;34m)\u001b[0m\u001b[0;34m\u001b[0m\u001b[0m\n",
      "\u001b[0;32m/Users/jacob/Documents/Home/keyboardguys/explorations/kgimgproc.py\u001b[0m in \u001b[0;36msegment_image\u001b[0;34m(dataframe_in, note_id, dims, dim_names, idfieldname, sizeout)\u001b[0m\n\u001b[1;32m     96\u001b[0m \u001b[0;34m\u001b[0m\u001b[0m\n\u001b[1;32m     97\u001b[0m     \u001b[0msubimg\u001b[0m \u001b[0;34m=\u001b[0m \u001b[0mf\u001b[0m\u001b[0;34m[\u001b[0m\u001b[0mx2min\u001b[0m\u001b[0;34m:\u001b[0m\u001b[0mx2max\u001b[0m\u001b[0;34m,\u001b[0m \u001b[0mx1min\u001b[0m\u001b[0;34m:\u001b[0m\u001b[0mx1max\u001b[0m\u001b[0;34m]\u001b[0m\u001b[0;34m\u001b[0m\u001b[0m\n\u001b[0;32m---> 98\u001b[0;31m     \u001b[0mscaledimage\u001b[0m \u001b[0;34m=\u001b[0m \u001b[0mskt\u001b[0m\u001b[0;34m.\u001b[0m\u001b[0mresize\u001b[0m\u001b[0;34m(\u001b[0m\u001b[0msubimg\u001b[0m\u001b[0;34m,\u001b[0m \u001b[0msizeout\u001b[0m\u001b[0;34m)\u001b[0m\u001b[0;34m\u001b[0m\u001b[0m\n\u001b[0m\u001b[1;32m     99\u001b[0m     \u001b[0;32mreturn\u001b[0m \u001b[0mscaledimage\u001b[0m\u001b[0;34m\u001b[0m\u001b[0m\n",
      "\u001b[0;32m/usr/local/lib/python3.4/site-packages/skimage/transform/_warps.py\u001b[0m in \u001b[0;36mresize\u001b[0;34m(image, output_shape, order, mode, cval, clip, preserve_range)\u001b[0m\n\u001b[1;32m    117\u001b[0m         out = warp(image, tform, output_shape=output_shape, order=order,\n\u001b[1;32m    118\u001b[0m                    \u001b[0mmode\u001b[0m\u001b[0;34m=\u001b[0m\u001b[0mmode\u001b[0m\u001b[0;34m,\u001b[0m \u001b[0mcval\u001b[0m\u001b[0;34m=\u001b[0m\u001b[0mcval\u001b[0m\u001b[0;34m,\u001b[0m \u001b[0mclip\u001b[0m\u001b[0;34m=\u001b[0m\u001b[0mclip\u001b[0m\u001b[0;34m,\u001b[0m\u001b[0;34m\u001b[0m\u001b[0m\n\u001b[0;32m--> 119\u001b[0;31m                    preserve_range=preserve_range)\n\u001b[0m\u001b[1;32m    120\u001b[0m \u001b[0;34m\u001b[0m\u001b[0m\n\u001b[1;32m    121\u001b[0m     \u001b[0;32mreturn\u001b[0m \u001b[0mout\u001b[0m\u001b[0;34m\u001b[0m\u001b[0m\n",
      "\u001b[0;32m/usr/local/lib/python3.4/site-packages/skimage/transform/_geometric.py\u001b[0m in \u001b[0;36mwarp\u001b[0;34m(image, inverse_map, map_args, output_shape, order, mode, cval, clip, preserve_range)\u001b[0m\n\u001b[1;32m   1341\u001b[0m                 warped = _warp_fast(image, matrix,\n\u001b[1;32m   1342\u001b[0m                                  \u001b[0moutput_shape\u001b[0m\u001b[0;34m=\u001b[0m\u001b[0moutput_shape\u001b[0m\u001b[0;34m,\u001b[0m\u001b[0;34m\u001b[0m\u001b[0m\n\u001b[0;32m-> 1343\u001b[0;31m                                  order=order, mode=mode, cval=cval)\n\u001b[0m\u001b[1;32m   1344\u001b[0m             \u001b[0;32melif\u001b[0m \u001b[0mimage\u001b[0m\u001b[0;34m.\u001b[0m\u001b[0mndim\u001b[0m \u001b[0;34m==\u001b[0m \u001b[0;36m3\u001b[0m\u001b[0;34m:\u001b[0m\u001b[0;34m\u001b[0m\u001b[0m\n\u001b[1;32m   1345\u001b[0m                 \u001b[0mdims\u001b[0m \u001b[0;34m=\u001b[0m \u001b[0;34m[\u001b[0m\u001b[0;34m]\u001b[0m\u001b[0;34m\u001b[0m\u001b[0m\n",
      "\u001b[0;32mskimage/transform/_warps_cy.pyx\u001b[0m in \u001b[0;36mskimage.transform._warps_cy._warp_fast (skimage/transform/_warps_cy.c:2125)\u001b[0;34m()\u001b[0m\n",
      "\u001b[0;31mValueError\u001b[0m: Buffer not C contiguous."
     ]
    }
   ],
   "source": [
    "img1 = kgp.segment_image(notes, '88-60')\n",
    "\n",
    "plt.imshow(img1, cmap='Greys_r', interpolation = \"nearest\")"
   ]
  },
  {
   "cell_type": "code",
   "execution_count": 61,
   "metadata": {
    "collapsed": false
   },
   "outputs": [
    {
     "data": {
      "text/plain": [
       "[(0, '12-8-Time'),\n",
       " (1, '2-4-Time'),\n",
       " (2, 'Quarter-Note'),\n",
       " (3, 'Quarter-Rest'),\n",
       " (4, 'Sharp'),\n",
       " (5, 'Sixteenth-Note'),\n",
       " (6, 'Sixteenth-Rest'),\n",
       " (7, 'Sixty-Four-Note'),\n",
       " (8, 'Sixty-Four-Rest'),\n",
       " (9, '3-4-Time'),\n",
       " (10, 'Thirty-Two-Note'),\n",
       " (11, 'Thirty-Two-Rest'),\n",
       " (12, 'Whole-Half-Rest'),\n",
       " (13, 'Whole-Note'),\n",
       " (14, '3-8-Time'),\n",
       " (15, '4-4-Time'),\n",
       " (16, '6-8-Time'),\n",
       " (17, '9-8-Time'),\n",
       " (18, 'Barline'),\n",
       " (19, 'C-Clef'),\n",
       " (20, 'Common-Time'),\n",
       " (21, 'Cut-Time'),\n",
       " (22, 'Dot'),\n",
       " (23, '2-2-Time'),\n",
       " (24, 'Double-Sharp'),\n",
       " (25, 'Eighth-Note'),\n",
       " (26, 'Eighth-Rest'),\n",
       " (27, 'F-Clef'),\n",
       " (28, 'Flat'),\n",
       " (29, 'G-Clef'),\n",
       " (30, 'Half-Note'),\n",
       " (31, 'Natural')]"
      ]
     },
     "execution_count": 61,
     "metadata": {},
     "output_type": "execute_result"
    }
   ],
   "source": [
    "noteids = list(notes['id'].unique())\n",
    "list(enumerate(notes['y'].unique()))"
   ]
  },
  {
   "cell_type": "code",
   "execution_count": 121,
   "metadata": {
    "collapsed": true
   },
   "outputs": [],
   "source": [
    "# Exporting to Octave\n",
    "X = np.zeros([1600, 800]) # Columns of X are individual examples\n",
    "y = np.zeros([800, 1]) # y(i) correspons to example X(:,1)\n",
    "\n",
    "sharps = notes[notes['y'] == 'Sharp']\n",
    "flats = notes[notes['y'] == 'Flat']\n",
    "\n",
    "dset = sharps.append(flats)"
   ]
  },
  {
   "cell_type": "code",
   "execution_count": 122,
   "metadata": {
    "collapsed": false,
    "scrolled": true
   },
   "outputs": [
    {
     "name": "stdout",
     "output_type": "stream",
     "text": [
      "Processed 0 examples\n",
      "Processed 10 examples\n",
      "Processed 20 examples\n",
      "Processed 30 examples\n",
      "Processed 40 examples\n",
      "Processed 50 examples\n",
      "Processed 60 examples\n",
      "Processed 70 examples\n",
      "Processed 80 examples\n",
      "Processed 90 examples\n",
      "Processed 100 examples\n",
      "Processed 110 examples\n",
      "Processed 120 examples\n",
      "Processed 130 examples\n",
      "Processed 140 examples\n",
      "Processed 150 examples\n",
      "Processed 160 examples\n",
      "Processed 170 examples\n",
      "Processed 180 examples\n",
      "Processed 190 examples\n",
      "Processed 200 examples\n",
      "Processed 210 examples\n",
      "Processed 220 examples\n",
      "Processed 230 examples\n",
      "Processed 240 examples\n",
      "Processed 250 examples\n",
      "Processed 260 examples\n",
      "Processed 270 examples\n",
      "Processed 280 examples\n",
      "Processed 290 examples\n",
      "Processed 300 examples\n",
      "Processed 310 examples\n",
      "Processed 320 examples\n",
      "Processed 330 examples\n",
      "Processed 340 examples\n",
      "Processed 350 examples\n",
      "Segmentation error on example 88-60\n",
      "Processed 360 examples\n",
      "Processed 370 examples\n",
      "Processed 380 examples\n",
      "Processed 390 examples\n",
      "Processed 400 examples\n",
      "Processed 410 examples\n",
      "Processed 420 examples\n",
      "Processed 430 examples\n",
      "Processed 440 examples\n",
      "Processed 450 examples\n",
      "Processed 460 examples\n",
      "Processed 470 examples\n",
      "Processed 480 examples\n",
      "Processed 490 examples\n",
      "Processed 500 examples\n",
      "Processed 510 examples\n",
      "Processed 520 examples\n",
      "Processed 530 examples\n",
      "Processed 540 examples\n",
      "Processed 550 examples\n",
      "Processed 560 examples\n",
      "Processed 570 examples\n",
      "Processed 580 examples\n",
      "Processed 590 examples\n",
      "Processed 600 examples\n",
      "Processed 610 examples\n",
      "Processed 620 examples\n",
      "Processed 630 examples\n",
      "Processed 640 examples\n",
      "Processed 650 examples\n",
      "Processed 660 examples\n",
      "Processed 670 examples\n",
      "Processed 680 examples\n",
      "Processed 690 examples\n",
      "Processed 700 examples\n",
      "Processed 710 examples\n",
      "Processed 720 examples\n",
      "Processed 730 examples\n",
      "Processed 740 examples\n",
      "Processed 750 examples\n",
      "Processed 760 examples\n",
      "Processed 770 examples\n",
      "Processed 780 examples\n",
      "Processed 790 examples\n"
     ]
    }
   ],
   "source": [
    "noteids = list(dset['id'].unique())\n",
    "for indx, unqnote in enumerate(noteids):\n",
    "    if indx % 10 == 0:\n",
    "        print('Processed ' + str(indx) + ' examples')\n",
    "    try:\n",
    "        f = kgp.segment_image(dset, unqnote).flatten()\n",
    "    except:\n",
    "        f = np.zeros(1600)\n",
    "        print(\"Segmentation error on example \" + unqnote)\n",
    "    X[:,indx] = f\n",
    "    if dset['y'].loc(indx) == \"Sharp\":\n",
    "        y[indx] = 1\n",
    "    else:\n",
    "        y[indx] = 0"
   ]
  },
  {
   "cell_type": "code",
   "execution_count": 123,
   "metadata": {
    "collapsed": false
   },
   "outputs": [],
   "source": [
    "sio.savemat('np_vectors.mat', {'X':X, 'y':y})"
   ]
  },
  {
   "cell_type": "code",
   "execution_count": 118,
   "metadata": {
    "collapsed": false
   },
   "outputs": [
    {
     "data": {
      "text/plain": [
       "<matplotlib.image.AxesImage at 0x10fced860>"
      ]
     },
     "execution_count": 118,
     "metadata": {},
     "output_type": "execute_result"
    },
    {
     "data": {
      "image/png": "[encoded data removed]",
      "text/plain": [
       "<matplotlib.figure.Figure at 0x115d9f630>"
      ]
     },
     "metadata": {},
     "output_type": "display_data"
    }
   ],
   "source": [
    "plt.imshow(np.reshape(X[:,799],[40,40]), cmap = \"Greys_r\", interpolation=\"nearest\")"
   ]
  },
  {
   "cell_type": "code",
   "execution_count": 120,
   "metadata": {
    "collapsed": false
   },
   "outputs": [
    {
     "data": {
      "text/plain": [
       "array([ 255.    ,  255.    ,  255.    ,  255.    ,  255.    ,  255.    ,\n",
       "        255.    ,  255.    ,  255.    ,  207.1875,  207.1875,  255.    ,\n",
       "        255.    ,  255.    ,  255.    ,  255.    ,  255.    ,  255.    ,\n",
       "        255.    ,  255.    ,  255.    ,  255.    ,  255.    ,  255.    ,\n",
       "        255.    ,  207.1875,   47.8125,  111.5625,  255.    ,  255.    ,\n",
       "        255.    ,  255.    ,  255.    ,  255.    ,  255.    ,  255.    ,\n",
       "        255.    ,  255.    ,  255.    ,  255.    ,  255.    ,  255.    ,\n",
       "        255.    ,  255.    ,  255.    ,  255.    ,  255.    ,  255.    ,\n",
       "        255.    ,  207.1875,  207.1875,  255.    ,  255.    ,  255.    ,\n",
       "        255.    ,  255.    ,  255.    ,  255.    ,  255.    ,  255.    ,\n",
       "        255.    ,  255.    ,  255.    ,  255.    ,  255.    ,  207.1875,\n",
       "         47.8125,  111.5625,  255.    ,  255.    ,  255.    ,  255.    ,\n",
       "        255.    ,  255.    ,  255.    ,  255.    ,  255.    ,  255.    ,\n",
       "        255.    ,  255.    ,  255.    ,  255.    ,  255.    ,  255.    ,\n",
       "        255.    ,  255.    ,  255.    ,  255.    ,  255.    ,  207.1875,\n",
       "        207.1875,  255.    ,  255.    ,  255.    ,  255.    ,  255.    ,\n",
       "        255.    ,  255.    ,  255.    ,  255.    ])"
      ]
     },
     "execution_count": 120,
     "metadata": {},
     "output_type": "execute_result"
    }
   ],
   "source": [
    "X[550:650,799]"
   ]
  },
  {
   "cell_type": "code",
   "execution_count": 134,
   "metadata": {
    "collapsed": false
   },
   "outputs": [
    {
     "name": "stdout",
     "output_type": "stream",
     "text": [
      "80623.32218803398\n"
     ]
    }
   ],
   "source": [
    "d1 = 10\n",
    "d2 = 20\n",
    "a = d1*d1\n",
    "b = d2*d2\n",
    "sums = 0\n",
    "while a <= 1000*1000:\n",
    "    sums += (1000*1000) / a\n",
    "    d1 = d1 + 2\n",
    "    a = d1 * d1\n",
    "while b <= 1000*1000:\n",
    "    sums += (1000*1000) / b\n",
    "    d2 = d2 + 2\n",
    "    b = d2 * d2\n",
    "print(sums)"
   ]
  },
  {
   "cell_type": "code",
   "execution_count": 130,
   "metadata": {
    "collapsed": false
   },
   "outputs": [
    {
     "data": {
      "text/plain": [
       "416.66666666666663"
      ]
     },
     "execution_count": 130,
     "metadata": {},
     "output_type": "execute_result"
    }
   ],
   "source": [
    "10000/(4*60)*10"
   ]
  },
  {
   "cell_type": "code",
   "execution_count": 136,
   "metadata": {
    "collapsed": false
   },
   "outputs": [
    {
     "data": {
      "text/plain": [
       "6944.444444444444"
      ]
     },
     "execution_count": 136,
     "metadata": {},
     "output_type": "execute_result"
    }
   ],
   "source": [
    "1000*1000/(12*12)"
   ]
  },
  {
   "cell_type": "code",
   "execution_count": null,
   "metadata": {
    "collapsed": true
   },
   "outputs": [],
   "source": []
  }
 ],
 "metadata": {
  "kernelspec": {
   "display_name": "Python 3",
   "language": "python",
   "name": "python3"
  },
  "language_info": {
   "codemirror_mode": {
    "name": "ipython",
    "version": 3
   },
   "file_extension": ".py",
   "mimetype": "text/x-python",
   "name": "python",
   "nbconvert_exporter": "python",
   "pygments_lexer": "ipython3",
   "version": "3.4.3"
  }
 },
 "nbformat": 4,
 "nbformat_minor": 1
}
